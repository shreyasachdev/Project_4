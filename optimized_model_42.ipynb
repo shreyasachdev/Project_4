{
 "cells": [
  {
   "cell_type": "code",
   "execution_count": 1,
   "metadata": {},
   "outputs": [],
   "source": [
    "from keras.models import Sequential\n",
    "from keras.layers import Dense, Conv2D, MaxPooling2D, Flatten, Dropout\n",
    "import cv2\n",
    "import os\n",
    "import numpy as np\n",
    "from sklearn.preprocessing import LabelEncoder\n",
    "from keras.utils import to_categorical\n",
    "from sklearn.model_selection import train_test_split\n",
    "from tensorflow.keras.callbacks import TensorBoard\n",
    "from keras.optimizers import Adam\n",
    "import joblib"
   ]
  },
  {
   "cell_type": "code",
   "execution_count": 2,
   "metadata": {
    "tags": [
     "outputPrepend"
    ]
   },
   "outputs": [
    {
     "output_type": "stream",
     "name": "stdout",
     "text": "_157_21_RWD_2_2_Convertible_tMl.jpg\n2_car_brands/Mazda_MX-5 Miata_2013_27_17_150_20_4_67_49_157_21_RWD_2_2_Convertible_Ulq.jpg\n2_car_brands/Mazda_MX-5 Miata_2013_27_17_150_20_4_67_49_157_21_RWD_2_2_Convertible_wap.jpg\n2_car_brands/Mazda_MX-5 Miata_2013_27_17_150_20_4_67_49_157_21_RWD_2_2_Convertible_yci.jpg\n2_car_brands/Mazda_MX-5 Miata_2013_27_17_150_20_4_67_49_157_21_RWD_2_2_Convertible_Ykw.jpg\n2_car_brands/Mazda_MX-5 Miata_2013_27_17_150_20_4_67_49_157_21_RWD_2_2_Convertible_YXb.jpg\n2_car_brands/Mazda_MX-5 Miata_2014_27_17_150_20_4_67_49_157_nan_RWD_2_2_Convertible_cNm.jpg\n2_car_brands/Mazda_MX-5 Miata_2014_27_17_150_20_4_67_49_157_nan_RWD_2_2_Convertible_DwM.jpg\n2_car_brands/Mazda_MX-5 Miata_2014_27_17_150_20_4_67_49_157_nan_RWD_2_2_Convertible_fei.jpg\n2_car_brands/Mazda_MX-5 Miata_2014_27_17_150_20_4_67_49_157_nan_RWD_2_2_Convertible_FpP.jpg\n2_car_brands/Mazda_MX-5 Miata_2014_27_17_150_20_4_67_49_157_nan_RWD_2_2_Convertible_ggY.jpg\n2_car_brands/Mazda_MX-5 Miata_2014_27_17_150_20_4_67_49_157_nan_RWD_2_2_Convertible_gph.jpg\n2_car_brands/Mazda_MX-5 Miata_2014_27_17_150_20_4_67_49_157_nan_RWD_2_2_Convertible_gXz.jpg\n2_car_brands/Mazda_MX-5 Miata_2014_27_17_150_20_4_67_49_157_nan_RWD_2_2_Convertible_hjE.jpg\n2_car_brands/Mazda_MX-5 Miata_2014_27_17_150_20_4_67_49_157_nan_RWD_2_2_Convertible_JAl.jpg\n2_car_brands/Mazda_MX-5 Miata_2014_27_17_150_20_4_67_49_157_nan_RWD_2_2_Convertible_JPz.jpg\n2_car_brands/Mazda_MX-5 Miata_2014_27_17_150_20_4_67_49_157_nan_RWD_2_2_Convertible_JrL.jpg\n2_car_brands/Mazda_MX-5 Miata_2014_27_17_150_20_4_67_49_157_nan_RWD_2_2_Convertible_lcy.jpg\n2_car_brands/Mazda_MX-5 Miata_2014_27_17_150_20_4_67_49_157_nan_RWD_2_2_Convertible_LhF.jpg\n2_car_brands/Mazda_MX-5 Miata_2014_27_17_150_20_4_67_49_157_nan_RWD_2_2_Convertible_LlW.jpg\n2_car_brands/Mazda_MX-5 Miata_2014_27_17_150_20_4_67_49_157_nan_RWD_2_2_Convertible_mHh.jpg\n2_car_brands/Mazda_MX-5 Miata_2014_27_17_150_20_4_67_49_157_nan_RWD_2_2_Convertible_nig.jpg\n2_car_brands/Mazda_MX-5 Miata_2014_27_17_150_20_4_67_49_157_nan_RWD_2_2_Convertible_ODZ.jpg\n2_car_brands/Mazda_MX-5 Miata_2014_27_17_150_20_4_67_49_157_nan_RWD_2_2_Convertible_oWo.jpg\n2_car_brands/Mazda_MX-5 Miata_2014_27_17_150_20_4_67_49_157_nan_RWD_2_2_Convertible_PFW.jpg\n2_car_brands/Mazda_MX-5 Miata_2014_27_17_150_20_4_67_49_157_nan_RWD_2_2_Convertible_QdB.jpg\n2_car_brands/Mazda_MX-5 Miata_2014_27_17_150_20_4_67_49_157_nan_RWD_2_2_Convertible_QIM.jpg\n2_car_brands/Mazda_MX-5 Miata_2014_27_17_150_20_4_67_49_157_nan_RWD_2_2_Convertible_rts.jpg\n2_car_brands/Mazda_MX-5 Miata_2014_27_17_150_20_4_67_49_157_nan_RWD_2_2_Convertible_tQX.jpg\n2_car_brands/Mazda_MX-5 Miata_2014_27_17_150_20_4_67_49_157_nan_RWD_2_2_Convertible_UED.jpg\n2_car_brands/Mazda_MX-5 Miata_2014_27_17_150_20_4_67_49_157_nan_RWD_2_2_Convertible_uqx.jpg\n2_car_brands/Mazda_MX-5 Miata_2014_27_17_150_20_4_67_49_157_nan_RWD_2_2_Convertible_utV.jpg\n2_car_brands/Mazda_MX-5 Miata_2014_27_17_150_20_4_67_49_157_nan_RWD_2_2_Convertible_vBe.jpg\n2_car_brands/Mazda_MX-5 Miata_2014_27_17_150_20_4_67_49_157_nan_RWD_2_2_Convertible_VBs.jpg\n2_car_brands/Mazda_MX-5 Miata_2014_27_17_150_20_4_67_49_157_nan_RWD_2_2_Convertible_vdB.jpg\n2_car_brands/Mazda_MX-5 Miata_2014_27_17_150_20_4_67_49_157_nan_RWD_2_2_Convertible_vxP.jpg\n2_car_brands/Mazda_MX-5 Miata_2014_27_17_150_20_4_67_49_157_nan_RWD_2_2_Convertible_wlX.jpg\n2_car_brands/Mazda_MX-5 Miata_2014_27_17_150_20_4_67_49_157_nan_RWD_2_2_Convertible_wXP.jpg\n2_car_brands/Mazda_MX-5 Miata_2014_27_17_150_20_4_67_49_157_nan_RWD_2_2_Convertible_yKP.jpg\n2_car_brands/Mazda_MX-5 Miata_2014_27_17_150_20_4_67_49_157_nan_RWD_2_2_Convertible_Zbr.jpg\n2_car_brands/Mazda_MX-5 Miata_2014_27_17_150_20_4_67_49_157_nan_RWD_2_2_Convertible_zmH.jpg\n2_car_brands/Mazda_MX-5 Miata_2015_27_17_150_20_4_67_49_157_21_RWD_2_2_Convertible_aNv.jpg\n2_car_brands/Mazda_MX-5 Miata_2015_27_17_150_20_4_67_49_157_21_RWD_2_2_Convertible_aWs.jpg\n2_car_brands/Mazda_MX-5 Miata_2015_27_17_150_20_4_67_49_157_21_RWD_2_2_Convertible_dno.jpg\n2_car_brands/Mazda_MX-5 Miata_2015_27_17_150_20_4_67_49_157_21_RWD_2_2_Convertible_Fwc.jpg\n2_car_brands/Mazda_MX-5 Miata_2015_27_17_150_20_4_67_49_157_21_RWD_2_2_Convertible_KiI.jpg\n2_car_brands/Mazda_MX-5 Miata_2015_27_17_150_20_4_67_49_157_21_RWD_2_2_Convertible_oKW.jpg\n2_car_brands/Mazda_MX-5 Miata_2015_27_17_150_20_4_67_49_157_21_RWD_2_2_Convertible_pLh.jpg\n2_car_brands/Mazda_MX-5 Miata_2015_27_17_150_20_4_67_49_157_21_RWD_2_2_Convertible_qFC.jpg\n2_car_brands/Mazda_MX-5 Miata_2015_27_17_150_20_4_67_49_157_21_RWD_2_2_Convertible_qFj.jpg\n2_car_brands/Mazda_MX-5 Miata_2015_27_17_150_20_4_67_49_157_21_RWD_2_2_Convertible_QTV.jpg\n2_car_brands/Mazda_MX-5 Miata_2015_27_17_150_20_4_67_49_157_21_RWD_2_2_Convertible_VkH.jpg\n2_car_brands/Mazda_MX-5 Miata_2015_27_17_150_20_4_67_49_157_21_RWD_2_2_Convertible_Wxv.jpg\n2_car_brands/Mazda_MX-5 Miata_2015_27_17_150_20_4_67_49_157_21_RWD_2_2_Convertible_xvI.jpg\n2_car_brands/Mazda_MX-5 Miata_2015_27_17_150_20_4_67_49_157_21_RWD_2_2_Convertible_Zkb.jpg\n2_car_brands/Mazda_MX-5 Miata_2016_29_17_150_20_4_68_48_154_27_RWD_2_2_Convertible_BBV.jpg\n2_car_brands/Mazda_MX-5 Miata_2016_29_17_150_20_4_68_48_154_27_RWD_2_2_Convertible_Bit.jpg\n2_car_brands/Mazda_MX-5 Miata_2016_29_17_150_20_4_68_48_154_27_RWD_2_2_Convertible_bsU.jpg\n2_car_brands/Mazda_MX-5 Miata_2016_29_17_150_20_4_68_48_154_27_RWD_2_2_Convertible_cAR.jpg\n2_car_brands/Mazda_MX-5 Miata_2016_29_17_150_20_4_68_48_154_27_RWD_2_2_Convertible_cbg.jpg\n2_car_brands/Mazda_MX-5 Miata_2016_29_17_150_20_4_68_48_154_27_RWD_2_2_Convertible_CjF.jpg\n2_car_brands/Mazda_MX-5 Miata_2016_29_17_150_20_4_68_48_154_27_RWD_2_2_Convertible_CMq.jpg\n2_car_brands/Mazda_MX-5 Miata_2016_29_17_150_20_4_68_48_154_27_RWD_2_2_Convertible_CqH.jpg\n2_car_brands/Mazda_MX-5 Miata_2016_29_17_150_20_4_68_48_154_27_RWD_2_2_Convertible_cSM.jpg\n2_car_brands/Mazda_MX-5 Miata_2016_29_17_150_20_4_68_48_154_27_RWD_2_2_Convertible_dCC.jpg\n2_car_brands/Mazda_MX-5 Miata_2016_29_17_150_20_4_68_48_154_27_RWD_2_2_Convertible_dDz.jpg\n2_car_brands/Mazda_MX-5 Miata_2016_29_17_150_20_4_68_48_154_27_RWD_2_2_Convertible_DKn.jpg\n2_car_brands/Mazda_MX-5 Miata_2016_29_17_150_20_4_68_48_154_27_RWD_2_2_Convertible_DLB.jpg\n2_car_brands/Mazda_MX-5 Miata_2016_29_17_150_20_4_68_48_154_27_RWD_2_2_Convertible_DMI.jpg\n2_car_brands/Mazda_MX-5 Miata_2016_29_17_150_20_4_68_48_154_27_RWD_2_2_Convertible_dPn.jpg\n2_car_brands/Mazda_MX-5 Miata_2016_29_17_150_20_4_68_48_154_27_RWD_2_2_Convertible_DPo.jpg\n2_car_brands/Mazda_MX-5 Miata_2016_29_17_150_20_4_68_48_154_27_RWD_2_2_Convertible_DtM.jpg\n2_car_brands/Mazda_MX-5 Miata_2016_29_17_150_20_4_68_48_154_27_RWD_2_2_Convertible_dvb.jpg\n2_car_brands/Mazda_MX-5 Miata_2016_29_17_150_20_4_68_48_154_27_RWD_2_2_Convertible_EfZ.jpg\n2_car_brands/Mazda_MX-5 Miata_2016_29_17_150_20_4_68_48_154_27_RWD_2_2_Convertible_fgz.jpg\n2_car_brands/Mazda_MX-5 Miata_2016_29_17_150_20_4_68_48_154_27_RWD_2_2_Convertible_Fqr.jpg\n2_car_brands/Mazda_MX-5 Miata_2016_29_17_150_20_4_68_48_154_27_RWD_2_2_Convertible_gEj.jpg\n2_car_brands/Mazda_MX-5 Miata_2016_29_17_150_20_4_68_48_154_27_RWD_2_2_Convertible_GOm.jpg\n2_car_brands/Mazda_MX-5 Miata_2016_29_17_150_20_4_68_48_154_27_RWD_2_2_Convertible_GvZ.jpg\n2_car_brands/Mazda_MX-5 Miata_2016_29_17_150_20_4_68_48_154_27_RWD_2_2_Convertible_HMZ.jpg\n2_car_brands/Mazda_MX-5 Miata_2016_29_17_150_20_4_68_48_154_27_RWD_2_2_Convertible_iAG.jpg\n2_car_brands/Mazda_MX-5 Miata_2016_29_17_150_20_4_68_48_154_27_RWD_2_2_Convertible_IJr.jpg\n2_car_brands/Mazda_MX-5 Miata_2016_29_17_150_20_4_68_48_154_27_RWD_2_2_Convertible_Ikp.jpg\n2_car_brands/Mazda_MX-5 Miata_2016_29_17_150_20_4_68_48_154_27_RWD_2_2_Convertible_iWZ.jpg\n2_car_brands/Mazda_MX-5 Miata_2016_29_17_150_20_4_68_48_154_27_RWD_2_2_Convertible_jMe.jpg\n2_car_brands/Mazda_MX-5 Miata_2016_29_17_150_20_4_68_48_154_27_RWD_2_2_Convertible_JVx.jpg\n2_car_brands/Mazda_MX-5 Miata_2016_29_17_150_20_4_68_48_154_27_RWD_2_2_Convertible_kPb.jpg\n2_car_brands/Mazda_MX-5 Miata_2016_29_17_150_20_4_68_48_154_27_RWD_2_2_Convertible_LEM.jpg\n2_car_brands/Mazda_MX-5 Miata_2016_29_17_150_20_4_68_48_154_27_RWD_2_2_Convertible_LEQ.jpg\n2_car_brands/Mazda_MX-5 Miata_2016_29_17_150_20_4_68_48_154_27_RWD_2_2_Convertible_mAn.jpg\n2_car_brands/Mazda_MX-5 Miata_2016_29_17_150_20_4_68_48_154_27_RWD_2_2_Convertible_mFB.jpg\n2_car_brands/Mazda_MX-5 Miata_2016_29_17_150_20_4_68_48_154_27_RWD_2_2_Convertible_MPA.jpg\n2_car_brands/Mazda_MX-5 Miata_2016_29_17_150_20_4_68_48_154_27_RWD_2_2_Convertible_oKZ.jpg\n2_car_brands/Mazda_MX-5 Miata_2016_29_17_150_20_4_68_48_154_27_RWD_2_2_Convertible_pMZ.jpg\n2_car_brands/Mazda_MX-5 Miata_2016_29_17_150_20_4_68_48_154_27_RWD_2_2_Convertible_PNV.jpg\n2_car_brands/Mazda_MX-5 Miata_2016_29_17_150_20_4_68_48_154_27_RWD_2_2_Convertible_qkF.jpg\n2_car_brands/Mazda_MX-5 Miata_2016_29_17_150_20_4_68_48_154_27_RWD_2_2_Convertible_RCt.jpg\n2_car_brands/Mazda_MX-5 Miata_2016_29_17_150_20_4_68_48_154_27_RWD_2_2_Convertible_rys.jpg\n2_car_brands/Mazda_MX-5 Miata_2016_29_17_150_20_4_68_48_154_27_RWD_2_2_Convertible_sGd.jpg\n2_car_brands/Mazda_MX-5 Miata_2016_29_17_150_20_4_68_48_154_27_RWD_2_2_Convertible_sNR.jpg\n2_car_brands/Mazda_MX-5 Miata_2016_29_17_150_20_4_68_48_154_27_RWD_2_2_Convertible_UOs.jpg\n2_car_brands/Mazda_MX-5 Miata_2016_29_17_150_20_4_68_48_154_27_RWD_2_2_Convertible_Vci.jpg\n2_car_brands/Mazda_MX-5 Miata_2016_29_17_150_20_4_68_48_154_27_RWD_2_2_Convertible_wbe.jpg\n2_car_brands/Mazda_MX-5 Miata_2016_29_17_150_20_4_68_48_154_27_RWD_2_2_Convertible_wLT.jpg\n2_car_brands/Mazda_MX-5 Miata_2016_29_17_150_20_4_68_48_154_27_RWD_2_2_Convertible_WXe.jpg\n2_car_brands/Mazda_MX-5 Miata_2016_29_17_150_20_4_68_48_154_27_RWD_2_2_Convertible_yeU.jpg\n2_car_brands/Mazda_MX-5 Miata_2016_29_17_150_20_4_68_48_154_27_RWD_2_2_Convertible_Zam.jpg\n2_car_brands/Mazda_MX-5 Miata_2016_29_17_150_20_4_68_48_154_27_RWD_2_2_Convertible_zYv.jpg\n2_car_brands/Mazda_MX-5 Miata_2017_29_17_150_20_4_68_48_154_26_RWD_2_2_Convertible_AjD.jpg\n2_car_brands/Mazda_MX-5 Miata_2017_29_17_150_20_4_68_48_154_26_RWD_2_2_Convertible_Akr.jpg\n2_car_brands/Mazda_MX-5 Miata_2017_29_17_150_20_4_68_48_154_26_RWD_2_2_Convertible_aqY.jpg\n2_car_brands/Mazda_MX-5 Miata_2017_29_17_150_20_4_68_48_154_26_RWD_2_2_Convertible_asi.jpg\n2_car_brands/Mazda_MX-5 Miata_2017_29_17_150_20_4_68_48_154_26_RWD_2_2_Convertible_bLu.jpg\n2_car_brands/Mazda_MX-5 Miata_2017_29_17_150_20_4_68_48_154_26_RWD_2_2_Convertible_BRB.jpg\n2_car_brands/Mazda_MX-5 Miata_2017_29_17_150_20_4_68_48_154_26_RWD_2_2_Convertible_BVk.jpg\n2_car_brands/Mazda_MX-5 Miata_2017_29_17_150_20_4_68_48_154_26_RWD_2_2_Convertible_cBz.jpg\n2_car_brands/Mazda_MX-5 Miata_2017_29_17_150_20_4_68_48_154_26_RWD_2_2_Convertible_CcC.jpg\n2_car_brands/Mazda_MX-5 Miata_2017_29_17_150_20_4_68_48_154_26_RWD_2_2_Convertible_cYF.jpg\n2_car_brands/Mazda_MX-5 Miata_2017_29_17_150_20_4_68_48_154_26_RWD_2_2_Convertible_DCo.jpg\n2_car_brands/Mazda_MX-5 Miata_2017_29_17_150_20_4_68_48_154_26_RWD_2_2_Convertible_Djq.jpg\n2_car_brands/Mazda_MX-5 Miata_2017_29_17_150_20_4_68_48_154_26_RWD_2_2_Convertible_ebm.jpg\n2_car_brands/Mazda_MX-5 Miata_2017_29_17_150_20_4_68_48_154_26_RWD_2_2_Convertible_eRr.jpg\n2_car_brands/Mazda_MX-5 Miata_2017_29_17_150_20_4_68_48_154_26_RWD_2_2_Convertible_eUY.jpg\n2_car_brands/Mazda_MX-5 Miata_2017_29_17_150_20_4_68_48_154_26_RWD_2_2_Convertible_FIj.jpg\n2_car_brands/Mazda_MX-5 Miata_2017_29_17_150_20_4_68_48_154_26_RWD_2_2_Convertible_fjc.jpg\n2_car_brands/Mazda_MX-5 Miata_2017_29_17_150_20_4_68_48_154_26_RWD_2_2_Convertible_gBs.jpg\n2_car_brands/Mazda_MX-5 Miata_2017_29_17_150_20_4_68_48_154_26_RWD_2_2_Convertible_geH.jpg\n2_car_brands/Mazda_MX-5 Miata_2017_29_17_150_20_4_68_48_154_26_RWD_2_2_Convertible_Ggp.jpg\n2_car_brands/Mazda_MX-5 Miata_2017_29_17_150_20_4_68_48_154_26_RWD_2_2_Convertible_gIX.jpg\n2_car_brands/Mazda_MX-5 Miata_2017_29_17_150_20_4_68_48_154_26_RWD_2_2_Convertible_gSB.jpg\n2_car_brands/Mazda_MX-5 Miata_2017_29_17_150_20_4_68_48_154_26_RWD_2_2_Convertible_gTS.jpg\n2_car_brands/Mazda_MX-5 Miata_2017_29_17_150_20_4_68_48_154_26_RWD_2_2_Convertible_gUm.jpg\n2_car_brands/Mazda_MX-5 Miata_2017_29_17_150_20_4_68_48_154_26_RWD_2_2_Convertible_gXs.jpg\n2_car_brands/Mazda_MX-5 Miata_2017_29_17_150_20_4_68_48_154_26_RWD_2_2_Convertible_iUS.jpg\n2_car_brands/Mazda_MX-5 Miata_2017_29_17_150_20_4_68_48_154_26_RWD_2_2_Convertible_JRi.jpg\n2_car_brands/Mazda_MX-5 Miata_2017_29_17_150_20_4_68_48_154_26_RWD_2_2_Convertible_Kgs.jpg\n2_car_brands/Mazda_MX-5 Miata_2017_29_17_150_20_4_68_48_154_26_RWD_2_2_Convertible_kms.jpg\n2_car_brands/Mazda_MX-5 Miata_2017_29_17_150_20_4_68_48_154_26_RWD_2_2_Convertible_knr.jpg\n2_car_brands/Mazda_MX-5 Miata_2017_29_17_150_20_4_68_48_154_26_RWD_2_2_Convertible_lKG.jpg\n2_car_brands/Mazda_MX-5 Miata_2017_29_17_150_20_4_68_48_154_26_RWD_2_2_Convertible_LOq.jpg\n2_car_brands/Mazda_MX-5 Miata_2017_29_17_150_20_4_68_48_154_26_RWD_2_2_Convertible_LrK.jpg\n2_car_brands/Mazda_MX-5 Miata_2017_29_17_150_20_4_68_48_154_26_RWD_2_2_Convertible_MtP.jpg\n2_car_brands/Mazda_MX-5 Miata_2017_29_17_150_20_4_68_48_154_26_RWD_2_2_Convertible_Nue.jpg\n2_car_brands/Mazda_MX-5 Miata_2017_29_17_150_20_4_68_48_154_26_RWD_2_2_Convertible_obE.jpg\n2_car_brands/Mazda_MX-5 Miata_2017_29_17_150_20_4_68_48_154_26_RWD_2_2_Convertible_oBm.jpg\n2_car_brands/Mazda_MX-5 Miata_2017_29_17_150_20_4_68_48_154_26_RWD_2_2_Convertible_OfR.jpg\n2_car_brands/Mazda_MX-5 Miata_2017_29_17_150_20_4_68_48_154_26_RWD_2_2_Convertible_oTv.jpg\n2_car_brands/Mazda_MX-5 Miata_2017_29_17_150_20_4_68_48_154_26_RWD_2_2_Convertible_piU.jpg\n2_car_brands/Mazda_MX-5 Miata_2017_29_17_150_20_4_68_48_154_26_RWD_2_2_Convertible_qEO.jpg\n2_car_brands/Mazda_MX-5 Miata_2017_29_17_150_20_4_68_48_154_26_RWD_2_2_Convertible_Qii.jpg\n2_car_brands/Mazda_MX-5 Miata_2017_29_17_150_20_4_68_48_154_26_RWD_2_2_Convertible_qZB.jpg\n2_car_brands/Mazda_MX-5 Miata_2017_29_17_150_20_4_68_48_154_26_RWD_2_2_Convertible_SvA.jpg\n2_car_brands/Mazda_MX-5 Miata_2017_29_17_150_20_4_68_48_154_26_RWD_2_2_Convertible_Sxc.jpg\n2_car_brands/Mazda_MX-5 Miata_2017_29_17_150_20_4_68_48_154_26_RWD_2_2_Convertible_tMa.jpg\n2_car_brands/Mazda_MX-5 Miata_2017_29_17_150_20_4_68_48_154_26_RWD_2_2_Convertible_ttc.jpg\n2_car_brands/Mazda_MX-5 Miata_2017_29_17_150_20_4_68_48_154_26_RWD_2_2_Convertible_TYe.jpg\n2_car_brands/Mazda_MX-5 Miata_2017_29_17_150_20_4_68_48_154_26_RWD_2_2_Convertible_ubI.jpg\n2_car_brands/Mazda_MX-5 Miata_2017_29_17_150_20_4_68_48_154_26_RWD_2_2_Convertible_VKP.jpg\n2_car_brands/Mazda_MX-5 Miata_2017_29_17_150_20_4_68_48_154_26_RWD_2_2_Convertible_VXG.jpg\n2_car_brands/Mazda_MX-5 Miata_2017_29_17_150_20_4_68_48_154_26_RWD_2_2_Convertible_vxx.jpg\n2_car_brands/Mazda_MX-5 Miata_2017_29_17_150_20_4_68_48_154_26_RWD_2_2_Convertible_WCG.jpg\n2_car_brands/Mazda_MX-5 Miata_2017_29_17_150_20_4_68_48_154_26_RWD_2_2_Convertible_WoU.jpg\n2_car_brands/Mazda_MX-5 Miata_2017_29_17_150_20_4_68_48_154_26_RWD_2_2_Convertible_WPT.jpg\n2_car_brands/Mazda_MX-5 Miata_2017_29_17_150_20_4_68_48_154_26_RWD_2_2_Convertible_wwh.jpg\n2_car_brands/Mazda_MX-5 Miata_2017_29_17_150_20_4_68_48_154_26_RWD_2_2_Convertible_WWv.jpg\n2_car_brands/Mazda_MX-5 Miata_2017_29_17_150_20_4_68_48_154_26_RWD_2_2_Convertible_XBY.jpg\n2_car_brands/Mazda_MX-5 Miata_2017_29_17_150_20_4_68_48_154_26_RWD_2_2_Convertible_XDe.jpg\n2_car_brands/Mazda_MX-5 Miata_2017_29_17_150_20_4_68_48_154_26_RWD_2_2_Convertible_xYE.jpg\n2_car_brands/Mazda_MX-5 Miata_2017_29_17_150_20_4_68_48_154_26_RWD_2_2_Convertible_yAZ.jpg\n2_car_brands/Mazda_MX-5 Miata_2017_29_17_150_20_4_68_48_154_26_RWD_2_2_Convertible_ypB.jpg\n2_car_brands/Mazda_MX-5 Miata_2017_29_17_150_20_4_68_48_154_26_RWD_2_2_Convertible_zCk.jpg\n2_car_brands/Mazda_MX-5 Miata_2017_29_17_150_20_4_68_48_154_26_RWD_2_2_Convertible_zfx.jpg\n2_car_brands/Mazda_MX-5 Miata_2017_29_17_150_20_4_68_48_154_26_RWD_2_2_Convertible_ZOS.jpg\n2_car_brands/Mazda_MX-5 Miata_2019_35_17_180_20_4_68_48_154_26_RWD_2_2_Convertible_aVc.jpg\n2_car_brands/Mazda_MX-5 Miata_2019_35_17_180_20_4_68_48_154_26_RWD_2_2_Convertible_CXf.jpg\n2_car_brands/Mazda_MX-5 Miata_2019_35_17_180_20_4_68_48_154_26_RWD_2_2_Convertible_CxV.jpg\n2_car_brands/Mazda_MX-5 Miata_2019_35_17_180_20_4_68_48_154_26_RWD_2_2_Convertible_dFu.jpg\n2_car_brands/Mazda_MX-5 Miata_2019_35_17_180_20_4_68_48_154_26_RWD_2_2_Convertible_DrM.jpg\n2_car_brands/Mazda_MX-5 Miata_2019_35_17_180_20_4_68_48_154_26_RWD_2_2_Convertible_duS.jpg\n2_car_brands/Mazda_MX-5 Miata_2019_35_17_180_20_4_68_48_154_26_RWD_2_2_Convertible_edY.jpg\n2_car_brands/Mazda_MX-5 Miata_2019_35_17_180_20_4_68_48_154_26_RWD_2_2_Convertible_eYi.jpg\n2_car_brands/Mazda_MX-5 Miata_2019_35_17_180_20_4_68_48_154_26_RWD_2_2_Convertible_fcx.jpg\n2_car_brands/Mazda_MX-5 Miata_2019_35_17_180_20_4_68_48_154_26_RWD_2_2_Convertible_feu.jpg\n2_car_brands/Mazda_MX-5 Miata_2019_35_17_180_20_4_68_48_154_26_RWD_2_2_Convertible_Gst.jpg\n2_car_brands/Mazda_MX-5 Miata_2019_35_17_180_20_4_68_48_154_26_RWD_2_2_Convertible_Hhq.jpg\n2_car_brands/Mazda_MX-5 Miata_2019_35_17_180_20_4_68_48_154_26_RWD_2_2_Convertible_hZj.jpg\n2_car_brands/Mazda_MX-5 Miata_2019_35_17_180_20_4_68_48_154_26_RWD_2_2_Convertible_IpG.jpg\n2_car_brands/Mazda_MX-5 Miata_2019_35_17_180_20_4_68_48_154_26_RWD_2_2_Convertible_IqW.jpg\n2_car_brands/Mazda_MX-5 Miata_2019_35_17_180_20_4_68_48_154_26_RWD_2_2_Convertible_irM.jpg\n2_car_brands/Mazda_MX-5 Miata_2019_35_17_180_20_4_68_48_154_26_RWD_2_2_Convertible_KbI.jpg\n2_car_brands/Mazda_MX-5 Miata_2019_35_17_180_20_4_68_48_154_26_RWD_2_2_Convertible_Kms.jpg\n2_car_brands/Mazda_MX-5 Miata_2019_35_17_180_20_4_68_48_154_26_RWD_2_2_Convertible_KNz.jpg\n2_car_brands/Mazda_MX-5 Miata_2019_35_17_180_20_4_68_48_154_26_RWD_2_2_Convertible_kWp.jpg\n2_car_brands/Mazda_MX-5 Miata_2019_35_17_180_20_4_68_48_154_26_RWD_2_2_Convertible_mLB.jpg\n2_car_brands/Mazda_MX-5 Miata_2019_35_17_180_20_4_68_48_154_26_RWD_2_2_Convertible_MqT.jpg\n2_car_brands/Mazda_MX-5 Miata_2019_35_17_180_20_4_68_48_154_26_RWD_2_2_Convertible_mYv.jpg\n2_car_brands/Mazda_MX-5 Miata_2019_35_17_180_20_4_68_48_154_26_RWD_2_2_Convertible_nGb.jpg\n2_car_brands/Mazda_MX-5 Miata_2019_35_17_180_20_4_68_48_154_26_RWD_2_2_Convertible_NRv.jpg\n2_car_brands/Mazda_MX-5 Miata_2019_35_17_180_20_4_68_48_154_26_RWD_2_2_Convertible_NXo.jpg\n2_car_brands/Mazda_MX-5 Miata_2019_35_17_180_20_4_68_48_154_26_RWD_2_2_Convertible_oeb.jpg\n2_car_brands/Mazda_MX-5 Miata_2019_35_17_180_20_4_68_48_154_26_RWD_2_2_Convertible_oRT.jpg\n2_car_brands/Mazda_MX-5 Miata_2019_35_17_180_20_4_68_48_154_26_RWD_2_2_Convertible_PqH.jpg\n2_car_brands/Mazda_MX-5 Miata_2019_35_17_180_20_4_68_48_154_26_RWD_2_2_Convertible_pSk.jpg\n2_car_brands/Mazda_MX-5 Miata_2019_35_17_180_20_4_68_48_154_26_RWD_2_2_Convertible_qjw.jpg\n2_car_brands/Mazda_MX-5 Miata_2019_35_17_180_20_4_68_48_154_26_RWD_2_2_Convertible_qMd.jpg\n2_car_brands/Mazda_MX-5 Miata_2019_35_17_180_20_4_68_48_154_26_RWD_2_2_Convertible_qwL.jpg\n2_car_brands/Mazda_MX-5 Miata_2019_35_17_180_20_4_68_48_154_26_RWD_2_2_Convertible_RaE.jpg\n2_car_brands/Mazda_MX-5 Miata_2019_35_17_180_20_4_68_48_154_26_RWD_2_2_Convertible_sDJ.jpg\n2_car_brands/Mazda_MX-5 Miata_2019_35_17_180_20_4_68_48_154_26_RWD_2_2_Convertible_Shs.jpg\n2_car_brands/Mazda_MX-5 Miata_2019_35_17_180_20_4_68_48_154_26_RWD_2_2_Convertible_ume.jpg\n2_car_brands/Mazda_MX-5 Miata_2019_35_17_180_20_4_68_48_154_26_RWD_2_2_Convertible_unO.jpg\n2_car_brands/Mazda_MX-5 Miata_2019_35_17_180_20_4_68_48_154_26_RWD_2_2_Convertible_UVg.jpg\n2_car_brands/Mazda_MX-5 Miata_2019_35_17_180_20_4_68_48_154_26_RWD_2_2_Convertible_vqE.jpg\n2_car_brands/Mazda_MX-5 Miata_2019_35_17_180_20_4_68_48_154_26_RWD_2_2_Convertible_XFr.jpg\n2_car_brands/Mazda_MX-5 Miata_2019_35_17_180_20_4_68_48_154_26_RWD_2_2_Convertible_XXS.jpg\n2_car_brands/Mazda_MX-5 Miata_2019_35_17_180_20_4_68_48_154_26_RWD_2_2_Convertible_YMT.jpg\n2_car_brands/Mazda_MX-5 Miata_2019_35_17_180_20_4_68_48_154_26_RWD_2_2_Convertible_YUC.jpg\n2_car_brands/Mazda_MX-5 Miata_2019_35_17_180_20_4_68_48_154_26_RWD_2_2_Convertible_YXd.jpg\n2_car_brands/Mazda_MX-5 Miata_2019_35_17_180_20_4_68_48_154_26_RWD_2_2_Convertible_Zsb.jpg\n2_car_brands/Mazda_MX-5 Miata_2019_35_17_180_20_4_68_48_154_26_RWD_2_2_Convertible_ZXe.jpg\n"
    }
   ],
   "source": [
    "#Get all image paths from car_images folder and append those paths to a list\n",
    "image_paths = os.listdir('car_images')\n",
    "full_image_paths = []\n",
    "for image in image_paths:\n",
    "    full_image_paths.append(f\"car_images/{image}\")\n",
    "\n",
    "#Create empty lists, one for the image arrays, and another for the car brand label\n",
    "image_arrays = []\n",
    "image_labels = []\n",
    "\n",
    "for x in range(len(full_image_paths)):\n",
    "    width = 240\n",
    "    height = 320\n",
    "    try:\n",
    "        #Loop through each full image path and load each image as grayscale using cv2\n",
    "        array = cv2.imread(full_image_paths[x], cv2.IMREAD_GRAYSCALE)\n",
    "\n",
    "        #Resize each array specified width and height\n",
    "        resized_array = cv2.resize(array,(height,width),interpolation=cv2.INTER_AREA)\n",
    "\n",
    "        #Convert back to rgb to add color channel back to array shape (Image still remains in grayscale)\n",
    "        resized_array_rgb = cv2.cvtColor(resized_array,cv2.COLOR_GRAY2RGB)\n",
    "\n",
    "        #Append converted array to image_arrays list\n",
    "        image_arrays.append(resized_array_rgb)\n",
    "        print(full_image_paths[x])\n",
    "\n",
    "        #Simultaneously get the images brand from the image file name\n",
    "        label_split = image_paths[x].split('_')\n",
    "        image_labels.append(label_split[0])\n",
    "    except Exception as e:\n",
    "        print('failed')"
   ]
  },
  {
   "cell_type": "code",
   "execution_count": 3,
   "metadata": {},
   "outputs": [],
   "source": [
    "#Resize array to fullfill CNN required shape\n",
    "image_arrays = np.array(image_arrays).reshape(-1, 240, 320, 3)"
   ]
  },
  {
   "cell_type": "code",
   "execution_count": 4,
   "metadata": {},
   "outputs": [],
   "source": [
    "#Use label encoder and to_categorical to one hot encode the car brand labels\n",
    "label_encoder = LabelEncoder()\n",
    "label_encoder.fit(image_labels)\n",
    "encoded_y = label_encoder.transform(image_labels)\n",
    "y_categorical = to_categorical(encoded_y)\n",
    "\n",
    "#Get Number of car brand classifications (needed for dense layer output in CNN)\n",
    "classifications = len(y_categorical[0])\n",
    "\n",
    "#Save label_encoder object so that predictions can be transformed in other jupyter notebooks/python scripts\n",
    "label_encoder_filename = \"label_encoders/label_encoder_42_classes.save\"\n",
    "joblib.dump(label_encoder, label_encoder_filename) "
   ]
  },
  {
   "cell_type": "code",
   "execution_count": 5,
   "metadata": {},
   "outputs": [],
   "source": [
    "#Split data set into train and test sets. Then split set again to get validation set\n",
    "X_train, X_test, y_train, y_test = train_test_split(image_arrays,y_categorical,random_state=42)\n",
    "X_train, X_val, y_train, y_val = train_test_split(image_arrays,y_categorical,test_size=0.1,random_state=42)"
   ]
  },
  {
   "cell_type": "code",
   "execution_count": 10,
   "metadata": {
    "tags": []
   },
   "outputs": [
    {
     "output_type": "stream",
     "name": "stdout",
     "text": "mazda_jeep_model\nEpoch 1/10\n 6/63 [=>............................] - ETA: 38s - loss: 129.6158 - accuracy: 0.5312"
    },
    {
     "output_type": "error",
     "ename": "KeyboardInterrupt",
     "evalue": "",
     "traceback": [
      "\u001b[1;31m---------------------------------------------------------------------------\u001b[0m",
      "\u001b[1;31mKeyboardInterrupt\u001b[0m                         Traceback (most recent call last)",
      "\u001b[1;32m<ipython-input-10-35a8a0281a80>\u001b[0m in \u001b[0;36m<module>\u001b[1;34m\u001b[0m\n\u001b[0;32m     36\u001b[0m              \u001b[0mshuffle\u001b[0m\u001b[1;33m=\u001b[0m\u001b[1;32mTrue\u001b[0m\u001b[1;33m,\u001b[0m\u001b[1;33m\u001b[0m\u001b[1;33m\u001b[0m\u001b[0m\n\u001b[0;32m     37\u001b[0m              \u001b[0mverbose\u001b[0m\u001b[1;33m=\u001b[0m\u001b[1;36m1\u001b[0m\u001b[1;33m,\u001b[0m\u001b[1;33m\u001b[0m\u001b[1;33m\u001b[0m\u001b[0m\n\u001b[1;32m---> 38\u001b[1;33m              callbacks=[tensorboard])  \n\u001b[0m\u001b[0;32m     39\u001b[0m \u001b[1;32mexcept\u001b[0m \u001b[0mException\u001b[0m \u001b[1;32mas\u001b[0m \u001b[0me\u001b[0m\u001b[1;33m:\u001b[0m\u001b[1;33m\u001b[0m\u001b[1;33m\u001b[0m\u001b[0m\n\u001b[0;32m     40\u001b[0m     \u001b[0mprint\u001b[0m\u001b[1;33m(\u001b[0m\u001b[1;34m'Error: %s'\u001b[0m\u001b[1;33m,\u001b[0m \u001b[0me\u001b[0m\u001b[1;33m)\u001b[0m\u001b[1;33m\u001b[0m\u001b[1;33m\u001b[0m\u001b[0m\n",
      "\u001b[1;32mC:\\ProgramData\\Anaconda3\\lib\\site-packages\\tensorflow\\python\\keras\\engine\\training.py\u001b[0m in \u001b[0;36m_method_wrapper\u001b[1;34m(self, *args, **kwargs)\u001b[0m\n\u001b[0;32m     64\u001b[0m   \u001b[1;32mdef\u001b[0m \u001b[0m_method_wrapper\u001b[0m\u001b[1;33m(\u001b[0m\u001b[0mself\u001b[0m\u001b[1;33m,\u001b[0m \u001b[1;33m*\u001b[0m\u001b[0margs\u001b[0m\u001b[1;33m,\u001b[0m \u001b[1;33m**\u001b[0m\u001b[0mkwargs\u001b[0m\u001b[1;33m)\u001b[0m\u001b[1;33m:\u001b[0m\u001b[1;33m\u001b[0m\u001b[1;33m\u001b[0m\u001b[0m\n\u001b[0;32m     65\u001b[0m     \u001b[1;32mif\u001b[0m \u001b[1;32mnot\u001b[0m \u001b[0mself\u001b[0m\u001b[1;33m.\u001b[0m\u001b[0m_in_multi_worker_mode\u001b[0m\u001b[1;33m(\u001b[0m\u001b[1;33m)\u001b[0m\u001b[1;33m:\u001b[0m  \u001b[1;31m# pylint: disable=protected-access\u001b[0m\u001b[1;33m\u001b[0m\u001b[1;33m\u001b[0m\u001b[0m\n\u001b[1;32m---> 66\u001b[1;33m       \u001b[1;32mreturn\u001b[0m \u001b[0mmethod\u001b[0m\u001b[1;33m(\u001b[0m\u001b[0mself\u001b[0m\u001b[1;33m,\u001b[0m \u001b[1;33m*\u001b[0m\u001b[0margs\u001b[0m\u001b[1;33m,\u001b[0m \u001b[1;33m**\u001b[0m\u001b[0mkwargs\u001b[0m\u001b[1;33m)\u001b[0m\u001b[1;33m\u001b[0m\u001b[1;33m\u001b[0m\u001b[0m\n\u001b[0m\u001b[0;32m     67\u001b[0m \u001b[1;33m\u001b[0m\u001b[0m\n\u001b[0;32m     68\u001b[0m     \u001b[1;31m# Running inside `run_distribute_coordinator` already.\u001b[0m\u001b[1;33m\u001b[0m\u001b[1;33m\u001b[0m\u001b[1;33m\u001b[0m\u001b[0m\n",
      "\u001b[1;32mC:\\ProgramData\\Anaconda3\\lib\\site-packages\\tensorflow\\python\\keras\\engine\\training.py\u001b[0m in \u001b[0;36mfit\u001b[1;34m(self, x, y, batch_size, epochs, verbose, callbacks, validation_split, validation_data, shuffle, class_weight, sample_weight, initial_epoch, steps_per_epoch, validation_steps, validation_batch_size, validation_freq, max_queue_size, workers, use_multiprocessing)\u001b[0m\n\u001b[0;32m    846\u001b[0m                 batch_size=batch_size):\n\u001b[0;32m    847\u001b[0m               \u001b[0mcallbacks\u001b[0m\u001b[1;33m.\u001b[0m\u001b[0mon_train_batch_begin\u001b[0m\u001b[1;33m(\u001b[0m\u001b[0mstep\u001b[0m\u001b[1;33m)\u001b[0m\u001b[1;33m\u001b[0m\u001b[1;33m\u001b[0m\u001b[0m\n\u001b[1;32m--> 848\u001b[1;33m               \u001b[0mtmp_logs\u001b[0m \u001b[1;33m=\u001b[0m \u001b[0mtrain_function\u001b[0m\u001b[1;33m(\u001b[0m\u001b[0miterator\u001b[0m\u001b[1;33m)\u001b[0m\u001b[1;33m\u001b[0m\u001b[1;33m\u001b[0m\u001b[0m\n\u001b[0m\u001b[0;32m    849\u001b[0m               \u001b[1;31m# Catch OutOfRangeError for Datasets of unknown size.\u001b[0m\u001b[1;33m\u001b[0m\u001b[1;33m\u001b[0m\u001b[1;33m\u001b[0m\u001b[0m\n\u001b[0;32m    850\u001b[0m               \u001b[1;31m# This blocks until the batch has finished executing.\u001b[0m\u001b[1;33m\u001b[0m\u001b[1;33m\u001b[0m\u001b[1;33m\u001b[0m\u001b[0m\n",
      "\u001b[1;32mC:\\ProgramData\\Anaconda3\\lib\\site-packages\\tensorflow\\python\\eager\\def_function.py\u001b[0m in \u001b[0;36m__call__\u001b[1;34m(self, *args, **kwds)\u001b[0m\n\u001b[0;32m    578\u001b[0m         \u001b[0mxla_context\u001b[0m\u001b[1;33m.\u001b[0m\u001b[0mExit\u001b[0m\u001b[1;33m(\u001b[0m\u001b[1;33m)\u001b[0m\u001b[1;33m\u001b[0m\u001b[1;33m\u001b[0m\u001b[0m\n\u001b[0;32m    579\u001b[0m     \u001b[1;32melse\u001b[0m\u001b[1;33m:\u001b[0m\u001b[1;33m\u001b[0m\u001b[1;33m\u001b[0m\u001b[0m\n\u001b[1;32m--> 580\u001b[1;33m       \u001b[0mresult\u001b[0m \u001b[1;33m=\u001b[0m \u001b[0mself\u001b[0m\u001b[1;33m.\u001b[0m\u001b[0m_call\u001b[0m\u001b[1;33m(\u001b[0m\u001b[1;33m*\u001b[0m\u001b[0margs\u001b[0m\u001b[1;33m,\u001b[0m \u001b[1;33m**\u001b[0m\u001b[0mkwds\u001b[0m\u001b[1;33m)\u001b[0m\u001b[1;33m\u001b[0m\u001b[1;33m\u001b[0m\u001b[0m\n\u001b[0m\u001b[0;32m    581\u001b[0m \u001b[1;33m\u001b[0m\u001b[0m\n\u001b[0;32m    582\u001b[0m     \u001b[1;32mif\u001b[0m \u001b[0mtracing_count\u001b[0m \u001b[1;33m==\u001b[0m \u001b[0mself\u001b[0m\u001b[1;33m.\u001b[0m\u001b[0m_get_tracing_count\u001b[0m\u001b[1;33m(\u001b[0m\u001b[1;33m)\u001b[0m\u001b[1;33m:\u001b[0m\u001b[1;33m\u001b[0m\u001b[1;33m\u001b[0m\u001b[0m\n",
      "\u001b[1;32mC:\\ProgramData\\Anaconda3\\lib\\site-packages\\tensorflow\\python\\eager\\def_function.py\u001b[0m in \u001b[0;36m_call\u001b[1;34m(self, *args, **kwds)\u001b[0m\n\u001b[0;32m    609\u001b[0m       \u001b[1;31m# In this case we have created variables on the first call, so we run the\u001b[0m\u001b[1;33m\u001b[0m\u001b[1;33m\u001b[0m\u001b[1;33m\u001b[0m\u001b[0m\n\u001b[0;32m    610\u001b[0m       \u001b[1;31m# defunned version which is guaranteed to never create variables.\u001b[0m\u001b[1;33m\u001b[0m\u001b[1;33m\u001b[0m\u001b[1;33m\u001b[0m\u001b[0m\n\u001b[1;32m--> 611\u001b[1;33m       \u001b[1;32mreturn\u001b[0m \u001b[0mself\u001b[0m\u001b[1;33m.\u001b[0m\u001b[0m_stateless_fn\u001b[0m\u001b[1;33m(\u001b[0m\u001b[1;33m*\u001b[0m\u001b[0margs\u001b[0m\u001b[1;33m,\u001b[0m \u001b[1;33m**\u001b[0m\u001b[0mkwds\u001b[0m\u001b[1;33m)\u001b[0m  \u001b[1;31m# pylint: disable=not-callable\u001b[0m\u001b[1;33m\u001b[0m\u001b[1;33m\u001b[0m\u001b[0m\n\u001b[0m\u001b[0;32m    612\u001b[0m     \u001b[1;32melif\u001b[0m \u001b[0mself\u001b[0m\u001b[1;33m.\u001b[0m\u001b[0m_stateful_fn\u001b[0m \u001b[1;32mis\u001b[0m \u001b[1;32mnot\u001b[0m \u001b[1;32mNone\u001b[0m\u001b[1;33m:\u001b[0m\u001b[1;33m\u001b[0m\u001b[1;33m\u001b[0m\u001b[0m\n\u001b[0;32m    613\u001b[0m       \u001b[1;31m# Release the lock early so that multiple threads can perform the call\u001b[0m\u001b[1;33m\u001b[0m\u001b[1;33m\u001b[0m\u001b[1;33m\u001b[0m\u001b[0m\n",
      "\u001b[1;32mC:\\ProgramData\\Anaconda3\\lib\\site-packages\\tensorflow\\python\\eager\\function.py\u001b[0m in \u001b[0;36m__call__\u001b[1;34m(self, *args, **kwargs)\u001b[0m\n\u001b[0;32m   2418\u001b[0m     \u001b[1;32mwith\u001b[0m \u001b[0mself\u001b[0m\u001b[1;33m.\u001b[0m\u001b[0m_lock\u001b[0m\u001b[1;33m:\u001b[0m\u001b[1;33m\u001b[0m\u001b[1;33m\u001b[0m\u001b[0m\n\u001b[0;32m   2419\u001b[0m       \u001b[0mgraph_function\u001b[0m\u001b[1;33m,\u001b[0m \u001b[0margs\u001b[0m\u001b[1;33m,\u001b[0m \u001b[0mkwargs\u001b[0m \u001b[1;33m=\u001b[0m \u001b[0mself\u001b[0m\u001b[1;33m.\u001b[0m\u001b[0m_maybe_define_function\u001b[0m\u001b[1;33m(\u001b[0m\u001b[0margs\u001b[0m\u001b[1;33m,\u001b[0m \u001b[0mkwargs\u001b[0m\u001b[1;33m)\u001b[0m\u001b[1;33m\u001b[0m\u001b[1;33m\u001b[0m\u001b[0m\n\u001b[1;32m-> 2420\u001b[1;33m     \u001b[1;32mreturn\u001b[0m \u001b[0mgraph_function\u001b[0m\u001b[1;33m.\u001b[0m\u001b[0m_filtered_call\u001b[0m\u001b[1;33m(\u001b[0m\u001b[0margs\u001b[0m\u001b[1;33m,\u001b[0m \u001b[0mkwargs\u001b[0m\u001b[1;33m)\u001b[0m  \u001b[1;31m# pylint: disable=protected-access\u001b[0m\u001b[1;33m\u001b[0m\u001b[1;33m\u001b[0m\u001b[0m\n\u001b[0m\u001b[0;32m   2421\u001b[0m \u001b[1;33m\u001b[0m\u001b[0m\n\u001b[0;32m   2422\u001b[0m   \u001b[1;33m@\u001b[0m\u001b[0mproperty\u001b[0m\u001b[1;33m\u001b[0m\u001b[1;33m\u001b[0m\u001b[0m\n",
      "\u001b[1;32mC:\\ProgramData\\Anaconda3\\lib\\site-packages\\tensorflow\\python\\eager\\function.py\u001b[0m in \u001b[0;36m_filtered_call\u001b[1;34m(self, args, kwargs)\u001b[0m\n\u001b[0;32m   1663\u001b[0m          if isinstance(t, (ops.Tensor,\n\u001b[0;32m   1664\u001b[0m                            resource_variable_ops.BaseResourceVariable))),\n\u001b[1;32m-> 1665\u001b[1;33m         self.captured_inputs)\n\u001b[0m\u001b[0;32m   1666\u001b[0m \u001b[1;33m\u001b[0m\u001b[0m\n\u001b[0;32m   1667\u001b[0m   \u001b[1;32mdef\u001b[0m \u001b[0m_call_flat\u001b[0m\u001b[1;33m(\u001b[0m\u001b[0mself\u001b[0m\u001b[1;33m,\u001b[0m \u001b[0margs\u001b[0m\u001b[1;33m,\u001b[0m \u001b[0mcaptured_inputs\u001b[0m\u001b[1;33m,\u001b[0m \u001b[0mcancellation_manager\u001b[0m\u001b[1;33m=\u001b[0m\u001b[1;32mNone\u001b[0m\u001b[1;33m)\u001b[0m\u001b[1;33m:\u001b[0m\u001b[1;33m\u001b[0m\u001b[1;33m\u001b[0m\u001b[0m\n",
      "\u001b[1;32mC:\\ProgramData\\Anaconda3\\lib\\site-packages\\tensorflow\\python\\eager\\function.py\u001b[0m in \u001b[0;36m_call_flat\u001b[1;34m(self, args, captured_inputs, cancellation_manager)\u001b[0m\n\u001b[0;32m   1744\u001b[0m       \u001b[1;31m# No tape is watching; skip to running the function.\u001b[0m\u001b[1;33m\u001b[0m\u001b[1;33m\u001b[0m\u001b[1;33m\u001b[0m\u001b[0m\n\u001b[0;32m   1745\u001b[0m       return self._build_call_outputs(self._inference_function.call(\n\u001b[1;32m-> 1746\u001b[1;33m           ctx, args, cancellation_manager=cancellation_manager))\n\u001b[0m\u001b[0;32m   1747\u001b[0m     forward_backward = self._select_forward_and_backward_functions(\n\u001b[0;32m   1748\u001b[0m         \u001b[0margs\u001b[0m\u001b[1;33m,\u001b[0m\u001b[1;33m\u001b[0m\u001b[1;33m\u001b[0m\u001b[0m\n",
      "\u001b[1;32mC:\\ProgramData\\Anaconda3\\lib\\site-packages\\tensorflow\\python\\eager\\function.py\u001b[0m in \u001b[0;36mcall\u001b[1;34m(self, ctx, args, cancellation_manager)\u001b[0m\n\u001b[0;32m    596\u001b[0m               \u001b[0minputs\u001b[0m\u001b[1;33m=\u001b[0m\u001b[0margs\u001b[0m\u001b[1;33m,\u001b[0m\u001b[1;33m\u001b[0m\u001b[1;33m\u001b[0m\u001b[0m\n\u001b[0;32m    597\u001b[0m               \u001b[0mattrs\u001b[0m\u001b[1;33m=\u001b[0m\u001b[0mattrs\u001b[0m\u001b[1;33m,\u001b[0m\u001b[1;33m\u001b[0m\u001b[1;33m\u001b[0m\u001b[0m\n\u001b[1;32m--> 598\u001b[1;33m               ctx=ctx)\n\u001b[0m\u001b[0;32m    599\u001b[0m         \u001b[1;32melse\u001b[0m\u001b[1;33m:\u001b[0m\u001b[1;33m\u001b[0m\u001b[1;33m\u001b[0m\u001b[0m\n\u001b[0;32m    600\u001b[0m           outputs = execute.execute_with_cancellation(\n",
      "\u001b[1;32mC:\\ProgramData\\Anaconda3\\lib\\site-packages\\tensorflow\\python\\eager\\execute.py\u001b[0m in \u001b[0;36mquick_execute\u001b[1;34m(op_name, num_outputs, inputs, attrs, ctx, name)\u001b[0m\n\u001b[0;32m     58\u001b[0m     \u001b[0mctx\u001b[0m\u001b[1;33m.\u001b[0m\u001b[0mensure_initialized\u001b[0m\u001b[1;33m(\u001b[0m\u001b[1;33m)\u001b[0m\u001b[1;33m\u001b[0m\u001b[1;33m\u001b[0m\u001b[0m\n\u001b[0;32m     59\u001b[0m     tensors = pywrap_tfe.TFE_Py_Execute(ctx._handle, device_name, op_name,\n\u001b[1;32m---> 60\u001b[1;33m                                         inputs, attrs, num_outputs)\n\u001b[0m\u001b[0;32m     61\u001b[0m   \u001b[1;32mexcept\u001b[0m \u001b[0mcore\u001b[0m\u001b[1;33m.\u001b[0m\u001b[0m_NotOkStatusException\u001b[0m \u001b[1;32mas\u001b[0m \u001b[0me\u001b[0m\u001b[1;33m:\u001b[0m\u001b[1;33m\u001b[0m\u001b[1;33m\u001b[0m\u001b[0m\n\u001b[0;32m     62\u001b[0m     \u001b[1;32mif\u001b[0m \u001b[0mname\u001b[0m \u001b[1;32mis\u001b[0m \u001b[1;32mnot\u001b[0m \u001b[1;32mNone\u001b[0m\u001b[1;33m:\u001b[0m\u001b[1;33m\u001b[0m\u001b[1;33m\u001b[0m\u001b[0m\n",
      "\u001b[1;31mKeyboardInterrupt\u001b[0m: "
     ]
    }
   ],
   "source": [
    "#Define parameters for model\n",
    "noOfFilters1 = 64\n",
    "noOfFilters2 = 32\n",
    "sizeOfFilter1 = (5,5)\n",
    "sizeOfFilter2 = (3,3)\n",
    "opt = Adam(lr=0.03)\n",
    "\n",
    "#Initialize tensorboard object to be used for callbacks\n",
    "NAME = 'optimized_model_2'\n",
    "print(NAME)\n",
    "tensorboard = TensorBoard(log_dir=f'logs/{NAME}')\n",
    "\n",
    "#Initalize model, and add layers\n",
    "model = Sequential()\n",
    "\n",
    "model.add(Conv2D(noOfFilters1,sizeOfFilter1,activation='relu',input_shape=(240,320,3)))\n",
    "model.add(MaxPooling2D((2,2)))\n",
    "\n",
    "model.add(Conv2D(noOfFilters1,sizeOfFilter2,activation='relu'))\n",
    "model.add(Conv2D(noOfFilters1,sizeOfFilter2,activation='relu'))\n",
    "model.add(MaxPooling2D((2,2)))\n",
    "\n",
    "model.add(Conv2D(noOfFilters1,sizeOfFilter2,activation='relu'))\n",
    "model.add(Conv2D(noOfFilters1,sizeOfFilter2,activation='relu'))\n",
    "model.add(MaxPooling2D((2,2)))\n",
    "model.add(Dropout(0.5))\n",
    "\n",
    "model.add(Flatten())\n",
    "\n",
    "model.add(Dense(units=classifications,activation='softmax'))\n",
    "\n",
    "#Compile model\n",
    "model.compile(optimizer=opt,\n",
    "              loss='categorical_crossentropy',\n",
    "              metrics=['accuracy'])\n",
    "              \n",
    "#Fit model               \n",
    "try:\n",
    "    model.fit(X_train, y_train,\n",
    "             batch_size=32,\n",
    "             epochs=10,\n",
    "             shuffle=True,\n",
    "             verbose=1,\n",
    "             callbacks=[tensorboard])  \n",
    "except Exception as e:\n",
    "    print('Error: %s', e)\n",
    "\n",
    "print(model.evaluate(X_test, y_test))\n",
    "\n",
    "#Save model\n",
    "model.save('models/optimized_model_2.h5')"
   ]
  },
  {
   "cell_type": "code",
   "execution_count": null,
   "metadata": {},
   "outputs": [],
   "source": []
  },
  {
   "cell_type": "code",
   "execution_count": null,
   "metadata": {},
   "outputs": [],
   "source": []
  }
 ],
 "metadata": {
  "kernelspec": {
   "display_name": "Python 3",
   "language": "python",
   "name": "python3"
  },
  "language_info": {
   "codemirror_mode": {
    "name": "ipython",
    "version": 3
   },
   "file_extension": ".py",
   "mimetype": "text/x-python",
   "name": "python",
   "nbconvert_exporter": "python",
   "pygments_lexer": "ipython3",
   "version": "3.7.6"
  }
 },
 "nbformat": 4,
 "nbformat_minor": 4
}