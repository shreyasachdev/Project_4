{
 "cells": [
  {
   "cell_type": "code",
   "execution_count": 2,
   "metadata": {},
   "outputs": [],
   "source": [
    "import keras\n",
    "import cv2\n",
    "import numpy as np\n",
    "import os\n",
    "import matplotlib.pyplot as plt\n",
    "from PIL import Image\n",
    "import joblib"
   ]
  },
  {
   "cell_type": "code",
   "execution_count": 16,
   "metadata": {},
   "outputs": [
    {
     "name": "stdout",
     "output_type": "stream",
     "text": [
      "Collecting opencv-python\n",
      "  Downloading opencv_python-4.3.0.36-cp38-cp38-win_amd64.whl (33.4 MB)\n",
      "Requirement already satisfied: numpy>=1.17.3 in c:\\users\\rimsh\\anaconda3\\lib\\site-packages (from opencv-python) (1.18.5)\n",
      "Installing collected packages: opencv-python\n",
      "Successfully installed opencv-python-4.3.0.36\n"
     ]
    }
   ],
   "source": [
    "!pip install opencv-python"
   ]
  },
  {
   "cell_type": "code",
   "execution_count": 2,
   "metadata": {},
   "outputs": [
    {
     "name": "stdout",
     "output_type": "stream",
     "text": [
      "Collecting keras\n",
      "  Using cached Keras-2.4.3-py2.py3-none-any.whl (36 kB)\n",
      "Requirement already satisfied: pyyaml in c:\\users\\rimsh\\anaconda3\\lib\\site-packages (from keras) (5.3.1)\n",
      "Requirement already satisfied: h5py in c:\\users\\rimsh\\anaconda3\\lib\\site-packages (from keras) (2.10.0)\n",
      "Requirement already satisfied: scipy>=0.14 in c:\\users\\rimsh\\anaconda3\\lib\\site-packages (from keras) (1.5.0)\n",
      "Requirement already satisfied: numpy>=1.9.1 in c:\\users\\rimsh\\anaconda3\\lib\\site-packages (from keras) (1.18.5)\n",
      "Requirement already satisfied: six in c:\\users\\rimsh\\anaconda3\\lib\\site-packages (from h5py->keras) (1.15.0)\n",
      "Installing collected packages: keras\n",
      "Successfully installed keras-2.4.3\n"
     ]
    }
   ],
   "source": [
    "!pip install keras"
   ]
  },
  {
   "cell_type": "code",
   "execution_count": 6,
   "metadata": {},
   "outputs": [
    {
     "name": "stdout",
     "output_type": "stream",
     "text": [
      "Collecting tensorflow\n",
      "  Downloading tensorflow-2.3.0-cp38-cp38-win_amd64.whl (342.5 MB)\n",
      "Collecting tensorflow-estimator<2.4.0,>=2.3.0\n",
      "  Downloading tensorflow_estimator-2.3.0-py2.py3-none-any.whl (459 kB)\n",
      "Collecting keras-preprocessing<1.2,>=1.1.1\n",
      "  Using cached Keras_Preprocessing-1.1.2-py2.py3-none-any.whl (42 kB)\n",
      "Requirement already satisfied: wheel>=0.26 in c:\\users\\rimsh\\anaconda3\\lib\\site-packages (from tensorflow) (0.34.2)\n",
      "Collecting tensorboard<3,>=2.3.0\n",
      "  Downloading tensorboard-2.3.0-py3-none-any.whl (6.8 MB)\n",
      "Collecting gast==0.3.3\n",
      "  Using cached gast-0.3.3-py2.py3-none-any.whl (9.7 kB)\n",
      "Collecting scipy==1.4.1\n",
      "  Downloading scipy-1.4.1-cp38-cp38-win_amd64.whl (31.0 MB)\n",
      "Collecting opt-einsum>=2.3.2\n",
      "  Downloading opt_einsum-3.3.0-py3-none-any.whl (65 kB)\n",
      "Collecting absl-py>=0.7.0\n",
      "  Using cached absl-py-0.9.0.tar.gz (104 kB)\n",
      "Collecting astunparse==1.6.3\n",
      "  Using cached astunparse-1.6.3-py2.py3-none-any.whl (12 kB)\n",
      "Requirement already satisfied: numpy<1.19.0,>=1.16.0 in c:\\users\\rimsh\\anaconda3\\lib\\site-packages (from tensorflow) (1.18.5)\n",
      "Collecting protobuf>=3.9.2\n",
      "  Downloading protobuf-3.12.2-py2.py3-none-any.whl (443 kB)\n",
      "Requirement already satisfied: six>=1.12.0 in c:\\users\\rimsh\\anaconda3\\lib\\site-packages (from tensorflow) (1.15.0)\n",
      "Requirement already satisfied: wrapt>=1.11.1 in c:\\users\\rimsh\\anaconda3\\lib\\site-packages (from tensorflow) (1.11.2)\n",
      "Collecting google-pasta>=0.1.8\n",
      "  Using cached google_pasta-0.2.0-py3-none-any.whl (57 kB)\n",
      "Collecting grpcio>=1.8.6\n",
      "  Downloading grpcio-1.30.0-cp38-cp38-win_amd64.whl (2.4 MB)\n",
      "Collecting termcolor>=1.1.0\n",
      "  Using cached termcolor-1.1.0.tar.gz (3.9 kB)\n",
      "Requirement already satisfied: h5py<2.11.0,>=2.10.0 in c:\\users\\rimsh\\anaconda3\\lib\\site-packages (from tensorflow) (2.10.0)\n",
      "Collecting tensorboard-plugin-wit>=1.6.0\n",
      "  Using cached tensorboard_plugin_wit-1.7.0-py3-none-any.whl (779 kB)\n",
      "Collecting markdown>=2.6.8\n",
      "  Using cached Markdown-3.2.2-py3-none-any.whl (88 kB)\n",
      "Collecting google-auth-oauthlib<0.5,>=0.4.1\n",
      "  Using cached google_auth_oauthlib-0.4.1-py2.py3-none-any.whl (18 kB)\n",
      "Requirement already satisfied: requests<3,>=2.21.0 in c:\\users\\rimsh\\anaconda3\\lib\\site-packages (from tensorboard<3,>=2.3.0->tensorflow) (2.24.0)\n",
      "Requirement already satisfied: setuptools>=41.0.0 in c:\\users\\rimsh\\anaconda3\\lib\\site-packages (from tensorboard<3,>=2.3.0->tensorflow) (49.2.0.post20200714)\n",
      "Collecting google-auth<2,>=1.6.3\n",
      "  Downloading google_auth-1.19.2-py2.py3-none-any.whl (91 kB)\n",
      "Requirement already satisfied: werkzeug>=0.11.15 in c:\\users\\rimsh\\anaconda3\\lib\\site-packages (from tensorboard<3,>=2.3.0->tensorflow) (1.0.1)\n",
      "Collecting requests-oauthlib>=0.7.0\n",
      "  Using cached requests_oauthlib-1.3.0-py2.py3-none-any.whl (23 kB)\n",
      "Requirement already satisfied: idna<3,>=2.5 in c:\\users\\rimsh\\anaconda3\\lib\\site-packages (from requests<3,>=2.21.0->tensorboard<3,>=2.3.0->tensorflow) (2.10)\n",
      "Requirement already satisfied: urllib3!=1.25.0,!=1.25.1,<1.26,>=1.21.1 in c:\\users\\rimsh\\anaconda3\\lib\\site-packages (from requests<3,>=2.21.0->tensorboard<3,>=2.3.0->tensorflow) (1.25.9)\n",
      "Requirement already satisfied: chardet<4,>=3.0.2 in c:\\users\\rimsh\\anaconda3\\lib\\site-packages (from requests<3,>=2.21.0->tensorboard<3,>=2.3.0->tensorflow) (3.0.4)\n",
      "Requirement already satisfied: certifi>=2017.4.17 in c:\\users\\rimsh\\anaconda3\\lib\\site-packages (from requests<3,>=2.21.0->tensorboard<3,>=2.3.0->tensorflow) (2020.6.20)\n",
      "Collecting cachetools<5.0,>=2.0.0\n",
      "  Using cached cachetools-4.1.1-py3-none-any.whl (10 kB)\n",
      "Collecting rsa<5,>=3.1.4; python_version >= \"3\"\n",
      "  Using cached rsa-4.6-py3-none-any.whl (47 kB)\n",
      "Collecting pyasn1-modules>=0.2.1\n",
      "  Using cached pyasn1_modules-0.2.8-py2.py3-none-any.whl (155 kB)\n",
      "Collecting oauthlib>=3.0.0\n",
      "  Using cached oauthlib-3.1.0-py2.py3-none-any.whl (147 kB)\n",
      "Collecting pyasn1>=0.1.3\n",
      "  Using cached pyasn1-0.4.8-py2.py3-none-any.whl (77 kB)\n",
      "Building wheels for collected packages: absl-py, termcolor\n",
      "  Building wheel for absl-py (setup.py): started\n",
      "  Building wheel for absl-py (setup.py): finished with status 'done'\n",
      "  Created wheel for absl-py: filename=absl_py-0.9.0-py3-none-any.whl size=121935 sha256=ce0cc6abce4417d9518a562718af1d45dff78a738bc3503a49a0737b5c08e57c\n",
      "  Stored in directory: c:\\users\\rimsh\\appdata\\local\\pip\\cache\\wheels\\1d\\10\\8e\\2f79b924179ff1e6510933d63eb851bea01054fff262343b7a\n",
      "  Building wheel for termcolor (setup.py): started\n",
      "  Building wheel for termcolor (setup.py): finished with status 'done'\n",
      "  Created wheel for termcolor: filename=termcolor-1.1.0-py3-none-any.whl size=4835 sha256=3c7a792a2a0a5274e7228a8323b08593e5f3ea296feba92b5db0440b7aef749f\n",
      "  Stored in directory: c:\\users\\rimsh\\appdata\\local\\pip\\cache\\wheels\\a0\\16\\9c\\5473df82468f958445479c59e784896fa24f4a5fc024b0f501\n",
      "Successfully built absl-py termcolor\n",
      "Installing collected packages: tensorflow-estimator, keras-preprocessing, protobuf, tensorboard-plugin-wit, markdown, absl-py, grpcio, cachetools, pyasn1, rsa, pyasn1-modules, google-auth, oauthlib, requests-oauthlib, google-auth-oauthlib, tensorboard, gast, scipy, opt-einsum, astunparse, google-pasta, termcolor, tensorflow\n",
      "  Attempting uninstall: scipy\n",
      "    Found existing installation: scipy 1.5.0\n",
      "    Uninstalling scipy-1.5.0:\n",
      "      Successfully uninstalled scipy-1.5.0\n",
      "Successfully installed absl-py-0.9.0 astunparse-1.6.3 cachetools-4.1.1 gast-0.3.3 google-auth-1.19.2 google-auth-oauthlib-0.4.1 google-pasta-0.2.0 grpcio-1.30.0 keras-preprocessing-1.1.2 markdown-3.2.2 oauthlib-3.1.0 opt-einsum-3.3.0 protobuf-3.12.2 pyasn1-0.4.8 pyasn1-modules-0.2.8 requests-oauthlib-1.3.0 rsa-4.6 scipy-1.4.1 tensorboard-2.3.0 tensorboard-plugin-wit-1.7.0 tensorflow-2.3.0 tensorflow-estimator-2.3.0 termcolor-1.1.0\n",
      "Collecting tensorflow\n",
      "  Using cached tensorflow-2.3.0-cp38-cp38-win_amd64.whl (342.5 MB)\n",
      "Requirement already satisfied: google-pasta>=0.1.8 in c:\\users\\rimsh\\anaconda3\\lib\\site-packages (from tensorflow) (0.2.0)\n",
      "Requirement already satisfied: grpcio>=1.8.6 in c:\\users\\rimsh\\anaconda3\\lib\\site-packages (from tensorflow) (1.30.0)\n",
      "Requirement already satisfied: six>=1.12.0 in c:\\users\\rimsh\\anaconda3\\lib\\site-packages (from tensorflow) (1.15.0)\n",
      "Requirement already satisfied: gast==0.3.3 in c:\\users\\rimsh\\anaconda3\\lib\\site-packages (from tensorflow) (0.3.3)\n",
      "Requirement already satisfied: tensorboard<3,>=2.3.0 in c:\\users\\rimsh\\anaconda3\\lib\\site-packages (from tensorflow) (2.3.0)\n"
     ]
    },
    {
     "name": "stderr",
     "output_type": "stream",
     "text": [
      "ERROR: Could not install packages due to an EnvironmentError: [WinError 5] Access is denied: 'C:\\\\Users\\\\rimsh\\\\anaconda3\\\\Lib\\\\site-packages\\\\tensorflow\\\\include\\\\external\\\\com_github_grpc_grpc\\\\include\\\\grpcpp\\\\impl\\\\codegen\\\\intercepted_channel.h'\n",
      "Consider using the `--user` option or check the permissions.\n",
      "\n"
     ]
    },
    {
     "name": "stdout",
     "output_type": "stream",
     "text": [
      "Requirement already satisfied: tensorflow-estimator<2.4.0,>=2.3.0 in c:\\users\\rimsh\\anaconda3\\lib\\site-packages (from tensorflow) (2.3.0)\n",
      "Requirement already satisfied: termcolor>=1.1.0 in c:\\users\\rimsh\\anaconda3\\lib\\site-packages (from tensorflow) (1.1.0)\n",
      "Requirement already satisfied: absl-py>=0.7.0 in c:\\users\\rimsh\\anaconda3\\lib\\site-packages (from tensorflow) (0.9.0)\n",
      "Requirement already satisfied: h5py<2.11.0,>=2.10.0 in c:\\users\\rimsh\\anaconda3\\lib\\site-packages (from tensorflow) (2.10.0)\n",
      "Requirement already satisfied: wheel>=0.26 in c:\\users\\rimsh\\anaconda3\\lib\\site-packages (from tensorflow) (0.34.2)\n",
      "Requirement already satisfied: protobuf>=3.9.2 in c:\\users\\rimsh\\anaconda3\\lib\\site-packages (from tensorflow) (3.12.2)\n",
      "Requirement already satisfied: scipy==1.4.1 in c:\\users\\rimsh\\anaconda3\\lib\\site-packages (from tensorflow) (1.4.1)\n",
      "Requirement already satisfied: wrapt>=1.11.1 in c:\\users\\rimsh\\anaconda3\\lib\\site-packages (from tensorflow) (1.11.2)\n",
      "Requirement already satisfied: astunparse==1.6.3 in c:\\users\\rimsh\\anaconda3\\lib\\site-packages (from tensorflow) (1.6.3)\n",
      "Requirement already satisfied: opt-einsum>=2.3.2 in c:\\users\\rimsh\\anaconda3\\lib\\site-packages (from tensorflow) (3.3.0)\n",
      "Requirement already satisfied: numpy<1.19.0,>=1.16.0 in c:\\users\\rimsh\\anaconda3\\lib\\site-packages (from tensorflow) (1.18.5)\n",
      "Requirement already satisfied: keras-preprocessing<1.2,>=1.1.1 in c:\\users\\rimsh\\anaconda3\\lib\\site-packages (from tensorflow) (1.1.2)\n",
      "Requirement already satisfied: requests<3,>=2.21.0 in c:\\users\\rimsh\\anaconda3\\lib\\site-packages (from tensorboard<3,>=2.3.0->tensorflow) (2.24.0)\n",
      "Requirement already satisfied: werkzeug>=0.11.15 in c:\\users\\rimsh\\anaconda3\\lib\\site-packages (from tensorboard<3,>=2.3.0->tensorflow) (1.0.1)\n",
      "Requirement already satisfied: tensorboard-plugin-wit>=1.6.0 in c:\\users\\rimsh\\anaconda3\\lib\\site-packages (from tensorboard<3,>=2.3.0->tensorflow) (1.7.0)\n",
      "Requirement already satisfied: google-auth-oauthlib<0.5,>=0.4.1 in c:\\users\\rimsh\\anaconda3\\lib\\site-packages (from tensorboard<3,>=2.3.0->tensorflow) (0.4.1)\n",
      "Requirement already satisfied: google-auth<2,>=1.6.3 in c:\\users\\rimsh\\anaconda3\\lib\\site-packages (from tensorboard<3,>=2.3.0->tensorflow) (1.19.2)\n",
      "Requirement already satisfied: setuptools>=41.0.0 in c:\\users\\rimsh\\anaconda3\\lib\\site-packages (from tensorboard<3,>=2.3.0->tensorflow) (49.2.0.post20200714)\n",
      "Requirement already satisfied: markdown>=2.6.8 in c:\\users\\rimsh\\anaconda3\\lib\\site-packages (from tensorboard<3,>=2.3.0->tensorflow) (3.2.2)\n",
      "Requirement already satisfied: urllib3!=1.25.0,!=1.25.1,<1.26,>=1.21.1 in c:\\users\\rimsh\\anaconda3\\lib\\site-packages (from requests<3,>=2.21.0->tensorboard<3,>=2.3.0->tensorflow) (1.25.9)\n",
      "Requirement already satisfied: chardet<4,>=3.0.2 in c:\\users\\rimsh\\anaconda3\\lib\\site-packages (from requests<3,>=2.21.0->tensorboard<3,>=2.3.0->tensorflow) (3.0.4)\n",
      "Requirement already satisfied: idna<3,>=2.5 in c:\\users\\rimsh\\anaconda3\\lib\\site-packages (from requests<3,>=2.21.0->tensorboard<3,>=2.3.0->tensorflow) (2.10)\n",
      "Requirement already satisfied: certifi>=2017.4.17 in c:\\users\\rimsh\\anaconda3\\lib\\site-packages (from requests<3,>=2.21.0->tensorboard<3,>=2.3.0->tensorflow) (2020.6.20)\n",
      "Requirement already satisfied: requests-oauthlib>=0.7.0 in c:\\users\\rimsh\\anaconda3\\lib\\site-packages (from google-auth-oauthlib<0.5,>=0.4.1->tensorboard<3,>=2.3.0->tensorflow) (1.3.0)\n",
      "Requirement already satisfied: cachetools<5.0,>=2.0.0 in c:\\users\\rimsh\\anaconda3\\lib\\site-packages (from google-auth<2,>=1.6.3->tensorboard<3,>=2.3.0->tensorflow) (4.1.1)\n",
      "Requirement already satisfied: pyasn1-modules>=0.2.1 in c:\\users\\rimsh\\anaconda3\\lib\\site-packages (from google-auth<2,>=1.6.3->tensorboard<3,>=2.3.0->tensorflow) (0.2.8)\n",
      "Requirement already satisfied: rsa<5,>=3.1.4; python_version >= \"3\" in c:\\users\\rimsh\\anaconda3\\lib\\site-packages (from google-auth<2,>=1.6.3->tensorboard<3,>=2.3.0->tensorflow) (4.6)\n",
      "Requirement already satisfied: oauthlib>=3.0.0 in c:\\users\\rimsh\\anaconda3\\lib\\site-packages (from requests-oauthlib>=0.7.0->google-auth-oauthlib<0.5,>=0.4.1->tensorboard<3,>=2.3.0->tensorflow) (3.1.0)\n",
      "Requirement already satisfied: pyasn1<0.5.0,>=0.4.6 in c:\\users\\rimsh\\anaconda3\\lib\\site-packages (from pyasn1-modules>=0.2.1->google-auth<2,>=1.6.3->tensorboard<3,>=2.3.0->tensorflow) (0.4.8)\n",
      "Installing collected packages: tensorflow\n"
     ]
    }
   ],
   "source": [
    "!pip install tensorflow"
   ]
  },
  {
   "cell_type": "code",
   "execution_count": 2,
   "metadata": {},
   "outputs": [
    {
     "name": "stdout",
     "output_type": "stream",
     "text": [
      "Requirement already satisfied: sklearn in c:\\users\\rimsh\\appdata\\local\\continuum\\anaconda3\\lib\\site-packages (0.0)\n",
      "Requirement already satisfied: scikit-learn in c:\\users\\rimsh\\appdata\\local\\continuum\\anaconda3\\lib\\site-packages (from sklearn) (0.21.3)\n",
      "Requirement already satisfied: joblib>=0.11 in c:\\users\\rimsh\\appdata\\local\\continuum\\anaconda3\\lib\\site-packages (from scikit-learn->sklearn) (0.13.2)\n",
      "Requirement already satisfied: numpy>=1.11.0 in c:\\users\\rimsh\\appdata\\local\\continuum\\anaconda3\\lib\\site-packages (from scikit-learn->sklearn) (1.16.5)\n",
      "Requirement already satisfied: scipy>=0.17.0 in c:\\users\\rimsh\\appdata\\roaming\\python\\python37\\site-packages (from scikit-learn->sklearn) (1.4.1)\n"
     ]
    }
   ],
   "source": [
    "!pip install sklearn"
   ]
  },
  {
   "cell_type": "code",
   "execution_count": 8,
   "metadata": {},
   "outputs": [
    {
     "ename": "FileNotFoundError",
     "evalue": "[Errno 2] No such file or directory: 'label_encoders/label_encoder_42_classes.save'",
     "output_type": "error",
     "traceback": [
      "\u001b[1;31m---------------------------------------------------------------------------\u001b[0m",
      "\u001b[1;31mFileNotFoundError\u001b[0m                         Traceback (most recent call last)",
      "\u001b[1;32m<ipython-input-8-8e8a86f20fc2>\u001b[0m in \u001b[0;36m<module>\u001b[1;34m\u001b[0m\n\u001b[1;32m----> 1\u001b[1;33m \u001b[0mlabel_encoder\u001b[0m \u001b[1;33m=\u001b[0m \u001b[0mjoblib\u001b[0m\u001b[1;33m.\u001b[0m\u001b[0mload\u001b[0m\u001b[1;33m(\u001b[0m\u001b[1;34m\"label_encoders/label_encoder_42_classes.save\"\u001b[0m\u001b[1;33m)\u001b[0m\u001b[1;33m\u001b[0m\u001b[1;33m\u001b[0m\u001b[0m\n\u001b[0m",
      "\u001b[1;32m~\\anaconda3\\lib\\site-packages\\joblib\\numpy_pickle.py\u001b[0m in \u001b[0;36mload\u001b[1;34m(filename, mmap_mode)\u001b[0m\n\u001b[0;32m    575\u001b[0m             \u001b[0mobj\u001b[0m \u001b[1;33m=\u001b[0m \u001b[0m_unpickle\u001b[0m\u001b[1;33m(\u001b[0m\u001b[0mfobj\u001b[0m\u001b[1;33m)\u001b[0m\u001b[1;33m\u001b[0m\u001b[1;33m\u001b[0m\u001b[0m\n\u001b[0;32m    576\u001b[0m     \u001b[1;32melse\u001b[0m\u001b[1;33m:\u001b[0m\u001b[1;33m\u001b[0m\u001b[1;33m\u001b[0m\u001b[0m\n\u001b[1;32m--> 577\u001b[1;33m         \u001b[1;32mwith\u001b[0m \u001b[0mopen\u001b[0m\u001b[1;33m(\u001b[0m\u001b[0mfilename\u001b[0m\u001b[1;33m,\u001b[0m \u001b[1;34m'rb'\u001b[0m\u001b[1;33m)\u001b[0m \u001b[1;32mas\u001b[0m \u001b[0mf\u001b[0m\u001b[1;33m:\u001b[0m\u001b[1;33m\u001b[0m\u001b[1;33m\u001b[0m\u001b[0m\n\u001b[0m\u001b[0;32m    578\u001b[0m             \u001b[1;32mwith\u001b[0m \u001b[0m_read_fileobject\u001b[0m\u001b[1;33m(\u001b[0m\u001b[0mf\u001b[0m\u001b[1;33m,\u001b[0m \u001b[0mfilename\u001b[0m\u001b[1;33m,\u001b[0m \u001b[0mmmap_mode\u001b[0m\u001b[1;33m)\u001b[0m \u001b[1;32mas\u001b[0m \u001b[0mfobj\u001b[0m\u001b[1;33m:\u001b[0m\u001b[1;33m\u001b[0m\u001b[1;33m\u001b[0m\u001b[0m\n\u001b[0;32m    579\u001b[0m                 \u001b[1;32mif\u001b[0m \u001b[0misinstance\u001b[0m\u001b[1;33m(\u001b[0m\u001b[0mfobj\u001b[0m\u001b[1;33m,\u001b[0m \u001b[0mstr\u001b[0m\u001b[1;33m)\u001b[0m\u001b[1;33m:\u001b[0m\u001b[1;33m\u001b[0m\u001b[1;33m\u001b[0m\u001b[0m\n",
      "\u001b[1;31mFileNotFoundError\u001b[0m: [Errno 2] No such file or directory: 'label_encoders/label_encoder_42_classes.save'"
     ]
    }
   ],
   "source": [
    "label_encoder = joblib.load(\"label_encoders/label_encoder_42_classes.save\")"
   ]
  },
  {
   "cell_type": "code",
   "execution_count": 3,
   "metadata": {},
   "outputs": [
    {
     "name": "stdout",
     "output_type": "stream",
     "text": [
      "[ 8  4  8  8  8  8 40  8  8 16  4 30  8  8  8  8  8  8  3  8  8 13 13 13\n",
      " 32 33 13 13 13 13  3 38  8 13 13 13 13 13 13  8 13 13  0 14 14 14 14 23\n",
      " 14 14 14 14 14 14 14 14 16 14  3 14 14 14 10 17  3  4 16 32  0 16 38 16\n",
      " 38 16 16 17  4 16  8 16  8 16 16 13  4 25 21 32 34 38]\n"
     ]
    }
   ],
   "source": [
    "# image folder\n",
    "folder_path = '../Project_4/10_test'\n",
    "# path to model\n",
    "model_path = '../Project_4/optimized_model.h5'\n",
    "# dimensions of images\n",
    "img_width, img_height = 320, 240\n",
    "\n",
    "# load the trained model\n",
    "model = keras.models.load_model('optimized_model.h5')\n",
    "\n",
    "\n",
    "# load all images into a list\n",
    "images = []\n",
    "for img in os.listdir(folder_path):\n",
    "    img = os.path.join(folder_path, img)\n",
    "    array = cv2.imread(img, cv2.IMREAD_GRAYSCALE)\n",
    "    resized_array = cv2.resize(array,(320,240),interpolation=cv2.INTER_AREA)\n",
    "    resized_array_rgb = cv2.cvtColor(resized_array,cv2.COLOR_GRAY2RGB)\n",
    "    image_array = np.array(resized_array_rgb).reshape(-1, 240, 320, 3)\n",
    "    images.append(image_array)\n",
    "\n",
    "# stack up images list to pass for prediction\n",
    "images = np.vstack(images)\n",
    "#classes = model.predict_classes(images)\n",
    "classes = np.argmax(model.predict(images), axis=-1)\n",
    "print(classes)\n"
   ]
  },
  {
   "cell_type": "code",
   "execution_count": 7,
   "metadata": {},
   "outputs": [
    {
     "ename": "NameError",
     "evalue": "name 'label_encoder' is not defined",
     "output_type": "error",
     "traceback": [
      "\u001b[1;31m---------------------------------------------------------------------------\u001b[0m",
      "\u001b[1;31mNameError\u001b[0m                                 Traceback (most recent call last)",
      "\u001b[1;32m<ipython-input-7-1a23428bceb0>\u001b[0m in \u001b[0;36m<module>\u001b[1;34m\u001b[0m\n\u001b[0;32m      1\u001b[0m \u001b[0mencoded\u001b[0m \u001b[1;33m=\u001b[0m\u001b[1;33m[\u001b[0m\u001b[1;33m]\u001b[0m\u001b[1;33m\u001b[0m\u001b[1;33m\u001b[0m\u001b[0m\n\u001b[0;32m      2\u001b[0m \u001b[1;32mfor\u001b[0m \u001b[0mx\u001b[0m \u001b[1;32min\u001b[0m \u001b[0mclasses\u001b[0m\u001b[1;33m:\u001b[0m\u001b[1;33m\u001b[0m\u001b[1;33m\u001b[0m\u001b[0m\n\u001b[1;32m----> 3\u001b[1;33m     \u001b[0mencoded\u001b[0m\u001b[1;33m.\u001b[0m\u001b[0mappend\u001b[0m\u001b[1;33m(\u001b[0m\u001b[0mlabel_encoder\u001b[0m\u001b[1;33m.\u001b[0m\u001b[0minverse_transform\u001b[0m\u001b[1;33m(\u001b[0m\u001b[1;33m[\u001b[0m\u001b[0mx\u001b[0m\u001b[1;33m]\u001b[0m\u001b[1;33m)\u001b[0m\u001b[1;33m)\u001b[0m\u001b[1;33m\u001b[0m\u001b[1;33m\u001b[0m\u001b[0m\n\u001b[0m\u001b[0;32m      4\u001b[0m     \u001b[0mprint\u001b[0m\u001b[1;33m(\u001b[0m\u001b[0mencoded\u001b[0m\u001b[1;33m)\u001b[0m\u001b[1;33m\u001b[0m\u001b[1;33m\u001b[0m\u001b[0m\n",
      "\u001b[1;31mNameError\u001b[0m: name 'label_encoder' is not defined"
     ]
    }
   ],
   "source": [
    "encoded =[]\n",
    "for x in classes:\n",
    "    encoded.append(label_encoder.inverse_transform([x]))\n",
    "    print(encoded)"
   ]
  },
  {
   "cell_type": "code",
   "execution_count": null,
   "metadata": {},
   "outputs": [],
   "source": [
    "car_names = [\"Chevrolet Traverse 2019\", \"Ford Mustang 2015\",\"GMC_Sierra 2500HD 2020\",\"Honda Civic 2012\",\"Hyundai_Sonata 2011\",\"Jeep_Wrangler 2019\",\"Kia Optima 2013\",\"Nissan Rogue 2011\",\"Ram 1500 2019\",\"Toyota Yaris 2011\"]"
   ]
  },
  {
   "cell_type": "code",
   "execution_count": 9,
   "metadata": {},
   "outputs": [
    {
     "ename": "IndexError",
     "evalue": "list index out of range",
     "output_type": "error",
     "traceback": [
      "\u001b[1;31m---------------------------------------------------------------------------\u001b[0m",
      "\u001b[1;31mIndexError\u001b[0m                                Traceback (most recent call last)",
      "\u001b[1;32m<ipython-input-9-126b644f1049>\u001b[0m in \u001b[0;36m<module>\u001b[1;34m\u001b[0m\n\u001b[0;32m      2\u001b[0m \u001b[1;32mfor\u001b[0m \u001b[0mi\u001b[0m\u001b[1;33m,\u001b[0m\u001b[0mimg\u001b[0m \u001b[1;32min\u001b[0m \u001b[0menumerate\u001b[0m\u001b[1;33m(\u001b[0m\u001b[0mimages\u001b[0m\u001b[1;33m)\u001b[0m\u001b[1;33m:\u001b[0m\u001b[1;33m\u001b[0m\u001b[1;33m\u001b[0m\u001b[0m\n\u001b[0;32m      3\u001b[0m     \u001b[0mfig\u001b[0m\u001b[1;33m.\u001b[0m\u001b[0madd_subplot\u001b[0m\u001b[1;33m(\u001b[0m\u001b[1;36m4\u001b[0m\u001b[1;33m,\u001b[0m\u001b[1;36m5\u001b[0m\u001b[1;33m,\u001b[0m \u001b[0mi\u001b[0m\u001b[1;33m+\u001b[0m\u001b[1;36m1\u001b[0m\u001b[1;33m)\u001b[0m\u001b[1;33m\u001b[0m\u001b[1;33m\u001b[0m\u001b[0m\n\u001b[1;32m----> 4\u001b[1;33m     \u001b[0mplt\u001b[0m\u001b[1;33m.\u001b[0m\u001b[0mtitle\u001b[0m\u001b[1;33m(\u001b[0m\u001b[0mencoded\u001b[0m\u001b[1;33m[\u001b[0m\u001b[0mi\u001b[0m\u001b[1;33m]\u001b[0m\u001b[1;33m)\u001b[0m\u001b[1;33m\u001b[0m\u001b[1;33m\u001b[0m\u001b[0m\n\u001b[0m\u001b[0;32m      5\u001b[0m     \u001b[0mplt\u001b[0m\u001b[1;33m.\u001b[0m\u001b[0mimshow\u001b[0m\u001b[1;33m(\u001b[0m\u001b[0mimg\u001b[0m\u001b[1;33m/\u001b[0m\u001b[1;36m256.\u001b[0m\u001b[1;33m)\u001b[0m\u001b[1;33m\u001b[0m\u001b[1;33m\u001b[0m\u001b[0m\n\u001b[0;32m      6\u001b[0m \u001b[0mplt\u001b[0m\u001b[1;33m.\u001b[0m\u001b[0mshow\u001b[0m\u001b[1;33m(\u001b[0m\u001b[1;33m)\u001b[0m\u001b[1;33m\u001b[0m\u001b[1;33m\u001b[0m\u001b[0m\n",
      "\u001b[1;31mIndexError\u001b[0m: list index out of range"
     ]
    },
    {
     "data": {
      "image/png": "[encoded data removed]",
      "text/plain": [
       "<Figure size 1440x1440 with 1 Axes>"
      ]
     },
     "metadata": {
      "needs_background": "light"
     },
     "output_type": "display_data"
    }
   ],
   "source": [
    "fig = plt.figure(figsize=(20, 20))\n",
    "for i,img in enumerate(images):\n",
    "    fig.add_subplot(4,5, i+1)\n",
    "    plt.title(encoded[i])\n",
    "    plt.imshow(img/256.)\n",
    "plt.show()"
   ]
  },
  {
   "cell_type": "code",
   "execution_count": 65,
   "metadata": {},
   "outputs": [
    {
     "name": "stdout",
     "output_type": "stream",
     "text": [
      "Car Model: [array(['Chevrolet'], dtype='<U13'), array(['Chevrolet'], dtype='<U13'), array(['Dodge'], dtype='<U13'), array(['BMW'], dtype='<U13'), array(['BMW'], dtype='<U13'), array(['Lincoln'], dtype='<U13'), array(['Kia'], dtype='<U13'), array(['Nissan'], dtype='<U13'), array(['Ram'], dtype='<U13'), array(['Toyota'], dtype='<U13')] , Prediction: [[2.28459243e-08 4.87630249e-12 7.00310120e-05 2.09318399e-02\n",
      "  2.20840884e-04 7.20520310e-10 4.05098399e-04 1.81705374e-02\n",
      "  8.38978112e-01 8.65290133e-08 8.01753330e-09 8.14924533e-07\n",
      "  1.05926009e-18 1.43804459e-03 7.52056167e-02 1.30376006e-14\n",
      "  2.80378922e-03 1.30817003e-03 1.08630854e-06 2.20635940e-07\n",
      "  7.78260073e-05 1.77952519e-03 2.99881431e-09 1.13035739e-07\n",
      "  6.52933568e-06 2.05732317e-06 6.80791773e-03 6.34903425e-13\n",
      "  4.30937653e-04 4.48153559e-09 3.07324299e-05 1.93759229e-06\n",
      "  1.39887501e-02 5.99277299e-03 3.36532437e-08 7.43283202e-13\n",
      "  1.45310230e-04 4.38351947e-07 9.96620953e-03 4.32572706e-04\n",
      "  8.02200462e-04 1.98846885e-12]\n",
      " [8.58464686e-04 1.37126926e-05 1.73533001e-04 8.48001800e-03\n",
      "  1.33794129e-01 2.80149379e-06 3.43438442e-04 6.84337970e-03\n",
      "  4.34760302e-01 4.42478311e-04 6.92972171e-05 2.48701632e-04\n",
      "  9.04909037e-09 7.71725327e-02 1.66364084e-03 7.84457665e-10\n",
      "  1.39127210e-01 1.77841727e-03 3.07836407e-03 9.77297314e-04\n",
      "  1.78439380e-03 2.16964893e-02 1.88376725e-06 1.75171555e-03\n",
      "  1.87656202e-03 1.59144681e-03 2.40178371e-04 6.72522674e-07\n",
      "  2.67319643e-04 6.17089711e-07 6.74171792e-03 3.12030825e-05\n",
      "  3.17381248e-02 9.30526003e-04 8.17562523e-07 4.97036439e-08\n",
      "  8.09994701e-04 1.22804431e-06 1.16769239e-01 2.44104340e-05\n",
      "  3.91379604e-03 2.99712575e-08]\n",
      " [1.07705558e-03 1.27091899e-03 3.86833446e-03 8.66363011e-03\n",
      "  5.51567376e-02 1.00225923e-04 2.68051022e-04 2.03658342e-02\n",
      "  8.55751187e-02 1.28529384e-04 1.56005517e-01 4.87450743e-04\n",
      "  2.94739439e-04 7.28300214e-02 2.60653831e-02 3.39598591e-05\n",
      "  4.66966368e-02 9.52720363e-03 3.94547358e-03 7.30088493e-03\n",
      "  3.77384154e-03 2.29153782e-02 1.73138315e-03 6.48555458e-02\n",
      "  5.67101780e-03 9.32653248e-02 3.16324923e-03 3.05582769e-04\n",
      "  5.96403070e-02 4.93717816e-05 6.13799654e-02 8.44428595e-03\n",
      "  6.67881407e-03 2.03818735e-02 4.26435750e-03 1.41338032e-05\n",
      "  2.89031249e-02 3.82898470e-05 2.87079271e-02 7.68258870e-02\n",
      "  1.35493407e-03 7.97366351e-03]\n",
      " [3.14579010e-02 2.04159487e-02 2.59268340e-02 3.80636454e-02\n",
      "  3.96178737e-02 3.42173837e-02 1.98510755e-02 1.88472811e-02\n",
      "  3.04199792e-02 1.76771302e-02 2.51524132e-02 2.06374023e-02\n",
      "  1.15312822e-02 3.13928835e-02 1.39837312e-02 1.65919866e-02\n",
      "  2.88970526e-02 2.85437535e-02 1.92016959e-02 2.84110270e-02\n",
      "  1.35546084e-02 2.51384396e-02 1.50821963e-02 1.85859092e-02\n",
      "  3.05180289e-02 2.54416708e-02 1.42488806e-02 1.81374419e-02\n",
      "  2.69383322e-02 6.94749644e-03 3.88053730e-02 2.15398688e-02\n",
      "  3.42350118e-02 3.51090543e-02 1.48783131e-02 1.86345577e-02\n",
      "  2.62902398e-02 1.32489726e-02 3.30667645e-02 2.70297620e-02\n",
      "  2.44302265e-02 1.73005201e-02]\n",
      " [3.34363021e-02 2.00425480e-02 2.50720736e-02 3.95835191e-02\n",
      "  4.10855934e-02 3.35052572e-02 2.00469680e-02 1.95056926e-02\n",
      "  3.15813310e-02 1.62627622e-02 2.43943166e-02 1.98897831e-02\n",
      "  1.05976732e-02 3.22571360e-02 1.42187923e-02 1.64036136e-02\n",
      "  3.01144049e-02 2.88880039e-02 1.93099529e-02 2.69311722e-02\n",
      "  1.39589235e-02 2.49515381e-02 1.43789267e-02 1.89878196e-02\n",
      "  2.97456309e-02 2.58637518e-02 1.47950910e-02 1.76449753e-02\n",
      "  2.68062353e-02 6.90139690e-03 3.61832306e-02 2.18504462e-02\n",
      "  3.55744734e-02 3.53471525e-02 1.47345904e-02 1.75046418e-02\n",
      "  2.60799434e-02 1.29007706e-02 3.36778015e-02 2.87461113e-02\n",
      "  2.45939009e-02 1.56457461e-02]\n",
      " [5.11150722e-09 1.01772332e-17 1.30060925e-12 1.40662771e-03\n",
      "  1.42838835e-04 2.74996578e-21 1.94136504e-12 1.09296820e-06\n",
      "  2.93000489e-02 7.01175864e-15 6.25588245e-06 4.85146645e-12\n",
      "  4.45516418e-28 1.05090342e-01 4.29837732e-03 1.43883755e-25\n",
      "  8.59168504e-05 2.05830205e-02 1.80914561e-10 1.57081870e-09\n",
      "  1.06650137e-03 2.25503081e-05 5.67360232e-13 1.92871585e-09\n",
      "  8.15398991e-04 7.42039621e-01 1.03199426e-07 3.62744890e-10\n",
      "  3.75822129e-09 1.54799969e-17 8.54714599e-05 2.93730113e-06\n",
      "  6.90980181e-02 1.82251547e-09 2.70298295e-09 8.61814212e-20\n",
      "  4.42397904e-05 1.09798213e-15 1.61019005e-02 9.80878528e-03\n",
      "  4.09325560e-11 3.42075336e-15]\n",
      " [4.83900635e-07 5.11038212e-10 2.85556318e-11 2.57346313e-04\n",
      "  3.67311761e-04 4.90647878e-09 1.45336045e-08 1.60166499e-04\n",
      "  1.63658541e-02 1.09442553e-05 8.90518805e-08 2.50956211e-09\n",
      "  3.10912845e-15 1.04995945e-03 3.77548713e-06 9.52059070e-14\n",
      "  3.80646525e-05 3.44672328e-04 1.30775536e-03 1.21292556e-04\n",
      "  1.77717254e-08 9.72296000e-01 6.86159851e-10 4.93480456e-07\n",
      "  8.00830254e-04 2.54133532e-08 1.87822789e-05 9.69969776e-08\n",
      "  5.40773850e-04 1.02763860e-08 8.32029546e-05 4.77154760e-10\n",
      "  6.84098850e-05 4.62297723e-03 3.03404613e-09 3.71935729e-12\n",
      "  4.73955442e-05 2.24701702e-10 1.41547224e-03 1.52741086e-05\n",
      "  6.25405883e-05 1.11648744e-08]\n",
      " [4.56369307e-04 3.63748186e-05 1.29354151e-03 1.39237083e-02\n",
      "  1.95796285e-02 1.17875432e-04 3.20638902e-03 4.18550242e-03\n",
      "  8.24631900e-02 4.58420509e-05 2.43554288e-03 3.11274984e-04\n",
      "  4.31283063e-08 9.29346532e-02 1.25773558e-02 5.86277018e-08\n",
      "  1.71307344e-02 6.86559230e-02 1.59990144e-04 2.10290961e-03\n",
      "  1.03425756e-01 3.66043225e-02 1.51851964e-06 2.35689860e-02\n",
      "  2.03412622e-02 1.37163210e-03 1.41285374e-04 4.12425061e-06\n",
      "  4.61647549e-04 9.69244211e-05 5.58257848e-03 3.40263825e-04\n",
      "  2.68826991e-01 5.84039895e-04 2.98766128e-04 4.83850670e-07\n",
      "  1.93788148e-02 9.57023076e-06 1.61819428e-01 3.41098346e-02\n",
      "  1.40781736e-03 7.05112279e-06]\n",
      " [9.87128727e-03 1.48483264e-06 2.70150893e-04 3.64361145e-02\n",
      "  4.48062643e-02 7.25070640e-05 1.28777348e-03 1.96451452e-02\n",
      "  2.82396153e-02 2.26565346e-04 1.67242228e-03 8.90243507e-04\n",
      "  4.74904027e-08 1.03229694e-01 8.73548165e-03 5.23415247e-06\n",
      "  7.77358934e-03 7.43306195e-03 3.18952458e-04 3.17792932e-04\n",
      "  2.24376330e-03 1.85548887e-03 2.34396895e-04 2.33162530e-02\n",
      "  8.06582440e-03 2.80651543e-03 2.37276731e-03 3.00083648e-05\n",
      "  9.67134765e-05 2.12468542e-04 1.62669253e-02 1.25919849e-01\n",
      "  3.01505346e-02 4.86373174e-04 4.31687176e-01 2.06524442e-06\n",
      "  1.98374782e-02 1.20385514e-04 5.28321080e-02 4.72984742e-04\n",
      "  9.63787548e-03 1.18616350e-04]\n",
      " [1.75174011e-06 9.33098534e-07 4.20141077e-07 4.29665223e-02\n",
      "  5.02825575e-03 4.18694725e-07 1.77666312e-04 5.67659969e-04\n",
      "  2.50056405e-02 1.80094957e-03 7.33152920e-05 6.68783323e-04\n",
      "  1.32669742e-08 2.29248889e-02 1.06612965e-02 5.64308777e-08\n",
      "  1.64660245e-01 5.53088151e-02 1.99992466e-03 5.39162465e-06\n",
      "  4.35780312e-05 4.74515781e-02 1.33194035e-05 3.82152321e-05\n",
      "  1.49529530e-02 1.33642095e-06 2.08941791e-02 2.27610963e-06\n",
      "  4.88888193e-03 1.69793225e-06 3.88281792e-02 2.30262149e-03\n",
      "  1.74476113e-02 1.33696274e-04 3.29827230e-07 2.87477570e-10\n",
      "  2.89865583e-03 1.17879802e-06 5.13215303e-01 6.95672701e-04\n",
      "  4.33579367e-03 3.93627841e-09]], Probability: 0.9722959995269775\n"
     ]
    }
   ],
   "source": [
    "predictions = model.predict(images)\n",
    "probability = np.amax(predictions)\n",
    "print(f'Car Model: {encoded} , Prediction: {predictions}, Probability: {probability}')"
   ]
  },
  {
   "cell_type": "code",
   "execution_count": 22,
   "metadata": {},
   "outputs": [
    {
     "data": {
      "text/plain": [
       "array([2.2845924e-08, 4.8763025e-12, 7.0031012e-05, 2.0931840e-02,\n",
       "       2.2084088e-04, 7.2052031e-10, 4.0509840e-04, 1.8170537e-02,\n",
       "       8.3897811e-01, 8.6529013e-08, 8.0175333e-09, 8.1492453e-07,\n",
       "       1.0592601e-18, 1.4380446e-03, 7.5205617e-02, 1.3037601e-14,\n",
       "       2.8037892e-03, 1.3081700e-03, 1.0863085e-06, 2.2063594e-07,\n",
       "       7.7826007e-05, 1.7795252e-03, 2.9988143e-09, 1.1303574e-07,\n",
       "       6.5293357e-06, 2.0573232e-06, 6.8079177e-03, 6.3490343e-13,\n",
       "       4.3093765e-04, 4.4815356e-09, 3.0732430e-05, 1.9375923e-06,\n",
       "       1.3988750e-02, 5.9927730e-03, 3.3653244e-08, 7.4328320e-13,\n",
       "       1.4531023e-04, 4.3835195e-07, 9.9662095e-03, 4.3257271e-04,\n",
       "       8.0220046e-04, 1.9884689e-12], dtype=float32)"
      ]
     },
     "execution_count": 22,
     "metadata": {},
     "output_type": "execute_result"
    }
   ],
   "source": [
    "predictions[0]"
   ]
  },
  {
   "cell_type": "code",
   "execution_count": 104,
   "metadata": {},
   "outputs": [
    {
     "name": "stdout",
     "output_type": "stream",
     "text": [
      "83.90 ['Acura' 'Alfa Romeo' 'Aston Martin' 'Audi' 'BMW' 'Bentley' 'Buick'\n",
      " 'Cadillac' 'Chevrolet' 'Chrysler' 'Dodge' 'FIAT' 'Ferrari' 'Ford' 'GMC'\n",
      " 'Genesis' 'Honda' 'Hyundai' 'INFINITI' 'Jaguar' 'Jeep' 'Kia'\n",
      " 'Lamborghini' 'Land Rover' 'Lexus' 'Lincoln' 'MINI' 'Maserati' 'Mazda'\n",
      " 'McLaren' 'Mercedes-Benz' 'Mitsubishi' 'Nissan' 'Porsche' 'Ram'\n",
      " 'Rolls-Royce' 'Subaru' 'Tesla' 'Toyota' 'Volkswagen' 'Volvo' 'smart']\n",
      "7.52 ['Acura' 'Alfa Romeo' 'Aston Martin' 'Audi' 'BMW' 'Bentley' 'Buick'\n",
      " 'Cadillac' 'Chevrolet' 'Chrysler' 'Dodge' 'FIAT' 'Ferrari' 'Ford' 'GMC'\n",
      " 'Genesis' 'Honda' 'Hyundai' 'INFINITI' 'Jaguar' 'Jeep' 'Kia'\n",
      " 'Lamborghini' 'Land Rover' 'Lexus' 'Lincoln' 'MINI' 'Maserati' 'Mazda'\n",
      " 'McLaren' 'Mercedes-Benz' 'Mitsubishi' 'Nissan' 'Porsche' 'Ram'\n",
      " 'Rolls-Royce' 'Subaru' 'Tesla' 'Toyota' 'Volkswagen' 'Volvo' 'smart']\n",
      "2.09 ['Acura' 'Alfa Romeo' 'Aston Martin' 'Audi' 'BMW' 'Bentley' 'Buick'\n",
      " 'Cadillac' 'Chevrolet' 'Chrysler' 'Dodge' 'FIAT' 'Ferrari' 'Ford' 'GMC'\n",
      " 'Genesis' 'Honda' 'Hyundai' 'INFINITI' 'Jaguar' 'Jeep' 'Kia'\n",
      " 'Lamborghini' 'Land Rover' 'Lexus' 'Lincoln' 'MINI' 'Maserati' 'Mazda'\n",
      " 'McLaren' 'Mercedes-Benz' 'Mitsubishi' 'Nissan' 'Porsche' 'Ram'\n",
      " 'Rolls-Royce' 'Subaru' 'Tesla' 'Toyota' 'Volkswagen' 'Volvo' 'smart']\n",
      "1.82 ['Acura' 'Alfa Romeo' 'Aston Martin' 'Audi' 'BMW' 'Bentley' 'Buick'\n",
      " 'Cadillac' 'Chevrolet' 'Chrysler' 'Dodge' 'FIAT' 'Ferrari' 'Ford' 'GMC'\n",
      " 'Genesis' 'Honda' 'Hyundai' 'INFINITI' 'Jaguar' 'Jeep' 'Kia'\n",
      " 'Lamborghini' 'Land Rover' 'Lexus' 'Lincoln' 'MINI' 'Maserati' 'Mazda'\n",
      " 'McLaren' 'Mercedes-Benz' 'Mitsubishi' 'Nissan' 'Porsche' 'Ram'\n",
      " 'Rolls-Royce' 'Subaru' 'Tesla' 'Toyota' 'Volkswagen' 'Volvo' 'smart']\n",
      "1.40 ['Acura' 'Alfa Romeo' 'Aston Martin' 'Audi' 'BMW' 'Bentley' 'Buick'\n",
      " 'Cadillac' 'Chevrolet' 'Chrysler' 'Dodge' 'FIAT' 'Ferrari' 'Ford' 'GMC'\n",
      " 'Genesis' 'Honda' 'Hyundai' 'INFINITI' 'Jaguar' 'Jeep' 'Kia'\n",
      " 'Lamborghini' 'Land Rover' 'Lexus' 'Lincoln' 'MINI' 'Maserati' 'Mazda'\n",
      " 'McLaren' 'Mercedes-Benz' 'Mitsubishi' 'Nissan' 'Porsche' 'Ram'\n",
      " 'Rolls-Royce' 'Subaru' 'Tesla' 'Toyota' 'Volkswagen' 'Volvo' 'smart']\n"
     ]
    }
   ],
   "source": [
    "# sorting the predictions in descending order\n",
    "sorting = (-predictions).argsort()\n",
    "\n",
    "# getting the top 5 predictions\n",
    "sorted_ = sorting[0][:5]\n",
    "\n",
    "for value in sorted_:\n",
    "    \n",
    "    for x in classes:\n",
    "        list(label_encoder.inverse_transform([x]))\n",
    "    my_class = label_encoder.classes_\n",
    "    # you can get your classes from the encoder(your_classes = encoder.classes_) \n",
    "    # just some rounding steps\n",
    "    prob = (predictions[0][value]) * 100\n",
    "    prob = \"%.2f\" % round(prob,2)\n",
    "    print(prob,my_class)\n",
    "    \n",
    "    "
   ]
  },
  {
   "cell_type": "code",
   "execution_count": null,
   "metadata": {},
   "outputs": [],
   "source": []
  }
 ],
 "metadata": {
  "kernelspec": {
   "display_name": "Python 3",
   "language": "python",
   "name": "python3"
  },
  "language_info": {
   "codemirror_mode": {
    "name": "ipython",
    "version": 3
   },
   "file_extension": ".py",
   "mimetype": "text/x-python",
   "name": "python",
   "nbconvert_exporter": "python",
   "pygments_lexer": "ipython3",
   "version": "3.8.3"
  }
 },
 "nbformat": 4,
 "nbformat_minor": 2
}
