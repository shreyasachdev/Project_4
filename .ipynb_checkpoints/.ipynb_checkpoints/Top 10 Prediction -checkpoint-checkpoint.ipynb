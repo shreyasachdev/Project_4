{
 "cells": [
  {
   "cell_type": "code",
   "execution_count": 1,
   "metadata": {},
   "outputs": [],
   "source": [
    "import keras\n",
    "import cv2\n",
    "import numpy as np\n",
    "from sklearn.preprocessing import LabelEncoder\n",
    "import os\n",
    "import matplotlib.pyplot as plt"
   ]
  },
  {
   "cell_type": "code",
   "execution_count": 2,
   "metadata": {},
   "outputs": [
    {
     "ename": "FileNotFoundError",
     "evalue": "[WinError 3] The system cannot find the path specified: 'car_images'",
     "output_type": "error",
     "traceback": [
      "\u001b[1;31m---------------------------------------------------------------------------\u001b[0m",
      "\u001b[1;31mFileNotFoundError\u001b[0m                         Traceback (most recent call last)",
      "\u001b[1;32m<ipython-input-2-ca48850a9b4e>\u001b[0m in \u001b[0;36m<module>\u001b[1;34m\u001b[0m\n\u001b[1;32m----> 1\u001b[1;33m \u001b[0mimage_paths\u001b[0m \u001b[1;33m=\u001b[0m \u001b[0mos\u001b[0m\u001b[1;33m.\u001b[0m\u001b[0mlistdir\u001b[0m\u001b[1;33m(\u001b[0m\u001b[1;34m'car_images'\u001b[0m\u001b[1;33m)\u001b[0m\u001b[1;33m\u001b[0m\u001b[1;33m\u001b[0m\u001b[0m\n\u001b[0m\u001b[0;32m      2\u001b[0m \u001b[0mfull_image_paths\u001b[0m \u001b[1;33m=\u001b[0m \u001b[1;33m[\u001b[0m\u001b[1;33m]\u001b[0m\u001b[1;33m\u001b[0m\u001b[1;33m\u001b[0m\u001b[0m\n\u001b[0;32m      3\u001b[0m \u001b[1;32mfor\u001b[0m \u001b[0mimage\u001b[0m \u001b[1;32min\u001b[0m \u001b[0mimage_paths\u001b[0m\u001b[1;33m:\u001b[0m\u001b[1;33m\u001b[0m\u001b[1;33m\u001b[0m\u001b[0m\n\u001b[0;32m      4\u001b[0m     \u001b[0mfull_image_paths\u001b[0m\u001b[1;33m.\u001b[0m\u001b[0mappend\u001b[0m\u001b[1;33m(\u001b[0m\u001b[1;34mf\"car_images/{image}\"\u001b[0m\u001b[1;33m)\u001b[0m\u001b[1;33m\u001b[0m\u001b[1;33m\u001b[0m\u001b[0m\n\u001b[0;32m      5\u001b[0m \u001b[1;33m\u001b[0m\u001b[0m\n",
      "\u001b[1;31mFileNotFoundError\u001b[0m: [WinError 3] The system cannot find the path specified: 'car_images'"
     ]
    }
   ],
   "source": [
    "image_paths = os.listdir('car_images')\n",
    "full_image_paths = []\n",
    "for image in image_paths:\n",
    "    full_image_paths.append(f\"car_images/{image}\")\n",
    "\n",
    "image_labels = []\n",
    "\n",
    "for x in range(len(full_image_paths)):\n",
    "    label_split = image_paths[x].split('_')\n",
    "    image_labels.append(label_split[0])\n",
    "\n",
    "label_encoder = LabelEncoder()\n",
    "label_encoder.fit(image_labels)\n",
    "encoded_y = label_encoder.transform(image_labels)\n"
   ]
  },
  {
   "cell_type": "code",
   "execution_count": null,
   "metadata": {},
   "outputs": [],
   "source": [
    "# image folder\n",
    "folder_path = '../Project_4/10_test'\n",
    "# path to model\n",
    "model_path = '../Project_4/optimized_model.h5'\n",
    "# dimensions of images\n",
    "img_width, img_height = 320, 240\n",
    "\n",
    "# load the trained model\n",
    "model = keras.models.load_model('optimized_model.h5')\n",
    "\n",
    "\n",
    "# load all images into a list\n",
    "images = []\n",
    "for img in os.listdir(folder_path):\n",
    "    img = os.path.join(folder_path, img)\n",
    "    array = cv2.imread(img, cv2.IMREAD_GRAYSCALE)\n",
    "    resized_array = cv2.resize(array,(320,240),interpolation=cv2.INTER_AREA)\n",
    "    resized_array_rgb = cv2.cvtColor(resized_array,cv2.COLOR_GRAY2RGB)\n",
    "    image_array = np.array(resized_array_rgb).reshape(-1, 240, 320, 3)\n",
    "    images.append(image_array)\n",
    "\n",
    "# stack up images list to pass for prediction\n",
    "images = np.vstack(images)\n",
    "classes = model.predict_classes(images)\n",
    "print(classes)"
   ]
  },
  {
   "cell_type": "code",
   "execution_count": null,
   "metadata": {},
   "outputs": [],
   "source": [
    "fig = plt.figure(figsize=(20, 20))\n",
    "for i,img in enumerate(images):\n",
    "    fig.add_subplot(4,5, i+1)\n",
    "    plt.title(classes[i])\n",
    "    plt.imshow(img/256.)\n",
    "plt.show()"
   ]
  },
  {
   "cell_type": "code",
   "execution_count": null,
   "metadata": {},
   "outputs": [],
   "source": [
    "car_model_prediction = label_encoder.inverse_transform([classes])\n"
   ]
  },
  {
   "cell_type": "code",
   "execution_count": null,
   "metadata": {},
   "outputs": [],
   "source": [
    "predictions = model.predict(images)\n",
    "probability = np.amax(predictions)\n",
    "print(f'Car Model: {car_model_prediction}, Prediction: {predictions}, Probability: {probability}')"
   ]
  },
  {
   "cell_type": "code",
   "execution_count": null,
   "metadata": {},
   "outputs": [],
   "source": [
    "predictions"
   ]
  },
  {
   "cell_type": "code",
   "execution_count": null,
   "metadata": {},
   "outputs": [],
   "source": [
    "listed_predict"
   ]
  },
  {
   "cell_type": "code",
   "execution_count": null,
   "metadata": {},
   "outputs": [],
   "source": [
    "#convert predictions array to list \n",
    "a = np.array(predictions)\n",
    "listed_predict = a.tolist()\n"
   ]
  },
  {
   "cell_type": "code",
   "execution_count": null,
   "metadata": {},
   "outputs": [],
   "source": [
    "#Sort the predictions from least to greatest\n",
    "#highest probability is at index=9 and the lowest probability is at index = 0.\n",
    "for i,img in enumerate(images):\n",
    "    list_index = [0,1,2,3,4,5,6,7,8,9]\n",
    "    x = listed_predict\n",
    "    for i in range(10):\n",
    "        for j in range(10):\n",
    "            if x[0][list_index[i]] > x[0][list_index[j]]:\n",
    "                temp = list_index[i]\n",
    "                list_index[i] = list_index[j]\n",
    "                list_index[j] = temp\n",
    "#Show the sorted labels in order from highest probability to lowest\n",
    "print(list_index)"
   ]
  },
  {
   "cell_type": "code",
   "execution_count": null,
   "metadata": {},
   "outputs": [],
   "source": [
    "#Print the first 5 most likely classes and the corresponding probability.\n",
    "i=0\n",
    "for i in range(5):\n",
    "    print(classes[list_index[i]], ':', round(predictions[0][list_index[i]] * 100, 2), '%')"
   ]
  },
  {
   "cell_type": "code",
   "execution_count": null,
   "metadata": {},
   "outputs": [],
   "source": [
    "# tie the class indices to their names\n",
    "\n",
    "def find_classes(car_images):\n",
    "    classes = os.listdir(car_images)\n",
    "    classes.sort()\n",
    "    class_to_idx = {classes[i]: i for i in range(len(classes))}\n",
    "    return classes, class_to_idx\n",
    "classes, c_to_idx = find_classes(folder_path)\n",
    "\n",
    "print( c_to_idx)"
   ]
  },
  {
   "cell_type": "code",
   "execution_count": null,
   "metadata": {},
   "outputs": [],
   "source": [
    "\n",
    "image_path = data_dir + 'bmw 3 2010'\n",
    "\n",
    "\n",
    "conf1, predicted1 = predict(image_path, model_path, topk=5)\n",
    "\n",
    "print(conf1)\n",
    "print(classes[predicted1[0]])"
   ]
  }
 ],
 "metadata": {
  "kernelspec": {
   "display_name": "Python 3",
   "language": "python",
   "name": "python3"
  },
  "language_info": {
   "codemirror_mode": {
    "name": "ipython",
    "version": 3
   },
   "file_extension": ".py",
   "mimetype": "text/x-python",
   "name": "python",
   "nbconvert_exporter": "python",
   "pygments_lexer": "ipython3",
   "version": "3.7.4"
  }
 },
 "nbformat": 4,
 "nbformat_minor": 2
}
